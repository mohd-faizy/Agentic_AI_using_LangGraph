{
 "cells": [
  {
   "cell_type": "markdown",
   "id": "0358b457",
   "metadata": {},
   "source": [
    "# ⭐**Conditional Workflow**"
   ]
  },
  {
   "cell_type": "markdown",
   "id": "ac51c40a",
   "metadata": {},
   "source": [
    "### 🧱 **Evolution of Workflows in LangGraph**\n",
    "\n",
    "1. **Sequential Workflows**:\n",
    "\n",
    "   * Tasks run one after another in a fixed order.\n",
    "   * Example: `Task A` → `Task B` → `Task C`.\n",
    "\n",
    "2. **Parallel Workflows**:\n",
    "\n",
    "   * Tasks split and run *simultaneously* from a single point.\n",
    "   * Example: After `Task 1`, both `Task 2` and `Task 3` run in parallel → their outputs feed into `Task 4`.\n",
    "\n",
    "---\n",
    "\n",
    "### 🔀 **Introduction to Conditional Workflows**\n",
    "\n",
    "3. **Core Concept**:\n",
    "\n",
    "   * Like parallel workflows in structure but with a key difference: **only one branch is executed**, based on a **condition**.\n",
    "   * Works similar to **if-else logic** in programming.\n",
    "\n",
    "4. **Programming Analogy**:\n",
    "\n",
    "   * Comparable to `if-elif-else` statements.\n",
    "   * Only the branch matching the condition is followed; others are skipped.\n",
    "\n",
    "5. **Significance**:\n",
    "\n",
    "   * Essential for **complex, decision-based** workflows.\n",
    "   * Expected to be used **frequently** in advanced LangGraph applications—just like `if-else` is in regular coding."
   ]
  },
  {
   "cell_type": "markdown",
   "id": "fb3f935b",
   "metadata": {},
   "source": [
    "## ⭕ **Quadratic Equation Workflow**"
   ]
  },
  {
   "cell_type": "markdown",
   "id": "9b248959",
   "metadata": {},
   "source": [
    "## Quadratic Equation Solver: Mathematical Formulas\n",
    "\n",
    "The code implements a solver for the standard quadratic equation:\n",
    "\n",
    "$ax^2 + bx + c = 0$\n",
    "\n",
    "---\n",
    "\n",
    "### 1. Show the Equation\n",
    "\n",
    "Displays the equation in standard form:\n",
    "\n",
    "$ax^2 + bx + c = 0$\n",
    "\n",
    "\n",
    "\n",
    "---\n",
    "\n",
    "### 2. Calculate the Discriminant\n",
    "\n",
    "Computes the discriminant $D$:\n",
    "\n",
    "\n",
    "$D = b^2 \\;-\\; 4ac$\n",
    "\n",
    "\n",
    "\n",
    "---\n",
    "\n",
    "### 3. Solve Based on Discriminant\n",
    "\n",
    "**Branching logic** (in `check_condition`):\n",
    "\n",
    "- If $D > 0$, there are two distinct real roots.  \n",
    "- If $D = 0$, there is exactly one (repeated) real root.  \n",
    "- If $D < 0$, there are no real roots.\n",
    "\n",
    "---\n",
    "\n",
    "#### Case A: Two Real Roots \\((D > 0)\\)\n",
    "\n",
    "\n",
    "$x = \\frac{-b \\pm \\sqrt{D}}{2a}$\n",
    "\n",
    "\n",
    "\n",
    "Which expands to  \n",
    "\n",
    "$x_1 = \\frac{-b + \\sqrt{b^2 - 4ac}}{2a}$\n",
    "\n",
    "$x_2 = \\frac{-b - \\sqrt{b^2 - 4ac}}{2a}$\n",
    "\n",
    "\n",
    "\n",
    "---\n",
    "\n",
    "#### Case B: One Repeated Root \\((D = 0)\\)\n",
    "\n",
    "$x = \\frac{-b}{2a}$ \n",
    "\n",
    "\n",
    "---\n",
    "\n",
    "#### Case C: No Real Roots \\((D < 0)\\)\n",
    "\n",
    "No solutions in the set of real numbers.\n",
    "\n"
   ]
  },
  {
   "cell_type": "code",
   "execution_count": null,
   "id": "115c048a",
   "metadata": {},
   "outputs": [],
   "source": []
  },
  {
   "cell_type": "markdown",
   "id": "8d6f834b",
   "metadata": {},
   "source": [
    "## ⭕ **Loan Approval System**"
   ]
  },
  {
   "cell_type": "markdown",
   "id": "91a8e52d",
   "metadata": {},
   "source": [
    "**We'll build a LangGraph workflow that:**\n",
    "\n",
    "- Gathers applicant data\n",
    "- Calculates a credit score\n",
    "- Decides based on multiple thresholds:\n",
    "  - 🟢 Approve loan\n",
    "  - 🟡 Refer to manual review\n",
    "  - 🔴 Reject loan\n",
    "- Each condition leads to a different downstream path with more logic."
   ]
  },
  {
   "cell_type": "code",
   "execution_count": 1,
   "id": "f486330d",
   "metadata": {},
   "outputs": [
    {
     "data": {
      "image/png": "[encoded data removed]",
      "text/plain": [
       "<langgraph.graph.state.CompiledStateGraph object at 0x000001C163A85400>"
      ]
     },
     "execution_count": 1,
     "metadata": {},
     "output_type": "execute_result"
    }
   ],
   "source": [
    "from langgraph.graph import StateGraph, START, END\n",
    "from typing import TypedDict, Literal\n",
    "\n",
    "class LoanState(TypedDict):\n",
    "    name: str\n",
    "    age: int\n",
    "    income: float\n",
    "    loan_amount: float\n",
    "    credit_score: float\n",
    "    decision: str\n",
    "    remarks: str\n",
    "\n",
    "# Step 1: Calculate Credit Score\n",
    "def calculate_credit_score(state: LoanState):\n",
    "    score = (state[\"income\"] / state[\"loan_amount\"]) * 100\n",
    "    return {\"credit_score\": score}\n",
    "\n",
    "# Step 2: Evaluate Credit Score\n",
    "def evaluate_credit_score(state: LoanState) -> Literal[\"approve\", \"manual_review\", \"reject\"]:\n",
    "    score = state[\"credit_score\"]\n",
    "    if score >= 250:\n",
    "        return \"approve\"\n",
    "    elif 150 <= score < 250:\n",
    "        return \"manual_review\"\n",
    "    else:\n",
    "        return \"reject\"\n",
    "\n",
    "# Step 3a: Auto-Approval Logic\n",
    "def approve_loan(state: LoanState):\n",
    "    return {\n",
    "        \"decision\": \"Approved ✅\",\n",
    "        \"remarks\": f\"Loan approved for {state['name']} with credit score {state['credit_score']:.2f}\"\n",
    "    }\n",
    "\n",
    "# Step 3b: Manual Review Path\n",
    "def manual_review(state: LoanState):\n",
    "    remarks = f\"Loan referred for manual review for {state['name']}.\"\n",
    "    return {\"decision\": \"Pending Manual Review 🕵️‍♂️\", \"remarks\": remarks}\n",
    "\n",
    "# Step 3c: Auto-Rejection Logic\n",
    "def reject_loan(state: LoanState):\n",
    "    return {\n",
    "        \"decision\": \"Rejected ❌\",\n",
    "        \"remarks\": f\"Loan rejected for {state['name']} due to low credit score ({state['credit_score']:.2f})\"\n",
    "    }\n",
    "\n",
    "# Create graph\n",
    "graph = StateGraph(LoanState)\n",
    "\n",
    "graph.add_node(\"calculate_credit_score\", calculate_credit_score)\n",
    "graph.add_node(\"approve\", approve_loan)\n",
    "graph.add_node(\"manual_review\", manual_review)\n",
    "graph.add_node(\"reject\", reject_loan)\n",
    "\n",
    "# Connect nodes\n",
    "graph.add_edge(START, \"calculate_credit_score\")\n",
    "graph.add_conditional_edges(\"calculate_credit_score\", evaluate_credit_score)\n",
    "graph.add_edge(\"approve\", END)\n",
    "graph.add_edge(\"manual_review\", END)\n",
    "graph.add_edge(\"reject\", END)\n",
    "\n",
    "# Compile the workflow\n",
    "workflow = graph.compile()\n",
    "\n",
    "workflow"
   ]
  },
  {
   "cell_type": "code",
   "execution_count": 7,
   "id": "c75567fc",
   "metadata": {},
   "outputs": [
    {
     "name": "stdout",
     "output_type": "stream",
     "text": [
      "{'name': 'Alice', 'age': 30, 'income': 6000, 'loan_amount': 200, 'credit_score': 3000.0, 'decision': 'Approved ✅', 'remarks': 'Loan approved for Alice with credit score 3000.00'}\n"
     ]
    }
   ],
   "source": [
    "initial_state = {\n",
    "    \"name\": \"Alice\",\n",
    "    \"age\": 30,\n",
    "    \"income\": 6000,\n",
    "    \"loan_amount\": 200,\n",
    "}\n",
    "\n",
    "result = workflow.invoke(initial_state)\n",
    "print(result)"
   ]
  },
  {
   "cell_type": "markdown",
   "id": "943ba15d",
   "metadata": {},
   "source": [
    "## ⭕ **Smart Customer Support Bot with Escalation Path**"
   ]
  },
  {
   "cell_type": "markdown",
   "id": "4faccb8f",
   "metadata": {},
   "source": [
    "**🔍 Goal:**\n",
    "***Create a multi-path workflow that:***\n",
    "- Handles customer complaints\n",
    "- Uses basic NLP logic to route tickets\n",
    "- Escalates to a human agent if:\n",
    "  - *User is angry (based on sentiment)*\n",
    "  - *Or it's a high-priority issue*\n",
    "  - *Or the bot failed to resolve the issue*\n",
    "- Resolves simple issues automatically\n",
    "\n",
    "---\n",
    "\n",
    "**💡 Core Concepts Used:**\n",
    "- Conditional branching based on sentiment + issue category\n",
    "- Auto-resolution vs escalation\n",
    "- NLP-like keyword-based routing"
   ]
  },
  {
   "cell_type": "code",
   "execution_count": 8,
   "id": "9b0b2526",
   "metadata": {},
   "outputs": [
    {
     "data": {
      "image/png": "[encoded data removed]",
      "text/plain": [
       "<langgraph.graph.state.CompiledStateGraph object at 0x000001C163B69F90>"
      ]
     },
     "execution_count": 8,
     "metadata": {},
     "output_type": "execute_result"
    }
   ],
   "source": [
    "from langgraph.graph import StateGraph, START, END\n",
    "from typing import TypedDict, Literal\n",
    "\n",
    "class SupportState(TypedDict):\n",
    "    user_name: str\n",
    "    issue: str\n",
    "    sentiment: str\n",
    "    category: str\n",
    "    decision: str\n",
    "    resolution: str\n",
    "\n",
    "# Step 1: Simple Sentiment + Category Classification (mocked)\n",
    "def classify_issue(state: SupportState):\n",
    "    issue = state[\"issue\"].lower()\n",
    "    sentiment = \"angry\" if \"refund\" in issue or \"worst\" in issue else \"neutral\"\n",
    "    \n",
    "    if \"payment\" in issue or \"refund\" in issue:\n",
    "        category = \"billing\"\n",
    "    elif \"login\" in issue:\n",
    "        category = \"authentication\"\n",
    "    elif \"feature\" in issue:\n",
    "        category = \"product\"\n",
    "    else:\n",
    "        category = \"general\"\n",
    "    \n",
    "    return {\"sentiment\": sentiment, \"category\": category}\n",
    "\n",
    "# Step 2: Condition-Based Decision Path\n",
    "def route_ticket(state: SupportState) -> Literal[\"auto_resolve\", \"escalate\"]:\n",
    "    # Escalate if angry or critical category\n",
    "    if state[\"sentiment\"] == \"angry\" or state[\"category\"] in [\"billing\", \"authentication\"]:\n",
    "        return \"escalate\"\n",
    "    return \"auto_resolve\"\n",
    "\n",
    "# Step 3a: Auto-Resolution\n",
    "def auto_resolve(state: SupportState):\n",
    "    msg = f\"Hi {state['user_name']}, we’ve resolved your issue regarding {state['category']} ✅\"\n",
    "    return {\"decision\": \"Resolved Automatically\", \"resolution\": msg}\n",
    "\n",
    "# Step 3b: Escalate to Human\n",
    "def escalate(state: SupportState):\n",
    "    msg = f\"Hi {state['user_name']}, your {state['category']} issue has been escalated to a human agent 🚨\"\n",
    "    return {\"decision\": \"Escalated to Human\", \"resolution\": msg}\n",
    "\n",
    "# Build the graph\n",
    "graph = StateGraph(SupportState)\n",
    "\n",
    "graph.add_node(\"classify_issue\", classify_issue)\n",
    "graph.add_node(\"auto_resolve\", auto_resolve)\n",
    "graph.add_node(\"escalate\", escalate)\n",
    "\n",
    "graph.add_edge(START, \"classify_issue\")\n",
    "graph.add_conditional_edges(\"classify_issue\", route_ticket)\n",
    "graph.add_edge(\"auto_resolve\", END)\n",
    "graph.add_edge(\"escalate\", END)\n",
    "\n",
    "workflow = graph.compile()\n",
    "workflow"
   ]
  },
  {
   "cell_type": "code",
   "execution_count": 9,
   "id": "f60ca336",
   "metadata": {},
   "outputs": [
    {
     "data": {
      "text/plain": [
       "{'user_name': 'Rohit',\n",
       " 'issue': 'I want a refund! Worst service ever.',\n",
       " 'sentiment': 'angry',\n",
       " 'category': 'billing',\n",
       " 'decision': 'Escalated to Human',\n",
       " 'resolution': 'Hi Rohit, your billing issue has been escalated to a human agent 🚨'}"
      ]
     },
     "execution_count": 9,
     "metadata": {},
     "output_type": "execute_result"
    }
   ],
   "source": [
    "workflow.invoke({\n",
    "    \"user_name\": \"Rohit\",\n",
    "    \"issue\": \"I want a refund! Worst service ever.\",\n",
    "})"
   ]
  }
 ],
 "metadata": {
  "kernelspec": {
   "display_name": "Agentic_AI_using_LangGraph_-_MCP",
   "language": "python",
   "name": "python3"
  },
  "language_info": {
   "codemirror_mode": {
    "name": "ipython",
    "version": 3
   },
   "file_extension": ".py",
   "mimetype": "text/x-python",
   "name": "python",
   "nbconvert_exporter": "python",
   "pygments_lexer": "ipython3",
   "version": "3.13.5"
  }
 },
 "nbformat": 4,
 "nbformat_minor": 5
}
