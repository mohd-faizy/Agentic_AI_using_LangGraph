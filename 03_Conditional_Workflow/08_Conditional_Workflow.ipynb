{
 "cells": [
  {
   "cell_type": "markdown",
   "id": "0358b457",
   "metadata": {},
   "source": [
    "# ⭐**Conditional Workflow**"
   ]
  },
  {
   "cell_type": "markdown",
   "id": "ac51c40a",
   "metadata": {},
   "source": [
    "### 🧱 **Evolution of Workflows in LangGraph**\n",
    "\n",
    "1. **Sequential Workflows**:\n",
    "\n",
    "   * Tasks run one after another in a fixed order.\n",
    "   * Example: `Task A` → `Task B` → `Task C`.\n",
    "\n",
    "2. **Parallel Workflows**:\n",
    "\n",
    "   * Tasks split and run *simultaneously* from a single point.\n",
    "   * Example: After `Task 1`, both `Task 2` and `Task 3` run in parallel → their outputs feed into `Task 4`.\n",
    "\n",
    "---\n",
    "\n",
    "### 🔀 **Introduction to Conditional Workflows**\n",
    "\n",
    "3. **Core Concept**:\n",
    "\n",
    "   * Like parallel workflows in structure but with a key difference: **only one branch is executed**, based on a **condition**.\n",
    "   * Works similar to **if-else logic** in programming.\n",
    "\n",
    "4. **Programming Analogy**:\n",
    "\n",
    "   * Comparable to `if-elif-else` statements.\n",
    "   * Only the branch matching the condition is followed; others are skipped.\n",
    "\n",
    "5. **Significance**:\n",
    "\n",
    "   * Essential for **complex, decision-based** workflows.\n",
    "   * Expected to be used **frequently** in advanced LangGraph applications—just like `if-else` is in regular coding."
   ]
  },
  {
   "cell_type": "markdown",
   "id": "fb3f935b",
   "metadata": {},
   "source": [
    "## ⭕ **Quadratic Equation Workflow**"
   ]
  },
  {
   "cell_type": "markdown",
   "id": "9b248959",
   "metadata": {},
   "source": [
    "**Quadratic Equation Solver: Mathematical Formulas**\n",
    "\n",
    "The code implements a solver for the standard quadratic equation:\n",
    "\n",
    "$ax^2 + bx + c = 0$\n",
    "\n",
    "---\n",
    "\n",
    "**1. Show the Equation**\n",
    "\n",
    "Displays the equation in standard form:\n",
    "\n",
    "$ax^2 + bx + c = 0$\n",
    "\n",
    "\n",
    "\n",
    "---\n",
    "\n",
    "**2. Calculate the Discriminant**\n",
    "\n",
    "Computes the discriminant $D$:\n",
    "\n",
    "\n",
    "$D = b^2 \\;-\\; 4ac$\n",
    "\n",
    "\n",
    "\n",
    "---\n",
    "\n",
    "**3. Solve Based on Discriminant**\n",
    "\n",
    "**Branching logic** (in `check_condition`):\n",
    "\n",
    "- If $D > 0$, there are two distinct real roots.  \n",
    "- If $D = 0$, there is exactly one (repeated) real root. (i.e both the roots are same)\n",
    "- If $D < 0$, there are no real roots.\n",
    "\n",
    "---\n",
    "\n",
    "**Case A: Two Real Roots \\((D > 0)\\)**\n",
    "\n",
    "\n",
    "$x = \\frac{-b \\pm \\sqrt{D}}{2a}$\n",
    "\n",
    "\n",
    "\n",
    "Which expands to  \n",
    "\n",
    "$x_1 = \\frac{-b + \\sqrt{b^2 - 4ac}}{2a}$\n",
    "\n",
    "$x_2 = \\frac{-b - \\sqrt{b^2 - 4ac}}{2a}$\n",
    "\n",
    "\n",
    "\n",
    "---\n",
    "\n",
    "**Case B: One Repeated Root \\((D = 0)\\)**\n",
    "\n",
    "$x = \\frac{-b}{2a}$ \n",
    "\n",
    "\n",
    "---\n",
    "\n",
    "**Case C: No Real Roots \\((D < 0)\\)**\n",
    "\n",
    "No solutions in the set of real numbers."
   ]
  },
  {
   "cell_type": "code",
   "execution_count": null,
   "id": "115c048a",
   "metadata": {},
   "outputs": [
    {
     "data": {
      "image/png": "[encoded data removed]",
      "text/plain": [
       "<langgraph.graph.state.CompiledStateGraph object at 0x000002BE8D999810>"
      ]
     },
     "execution_count": 15,
     "metadata": {},
     "output_type": "execute_result"
    }
   ],
   "source": [
    "# Imports\n",
    "from langgraph.graph import StateGraph, START, END\n",
    "from typing import TypedDict, Literal\n",
    "from dotenv import load_dotenv\n",
    "load_dotenv()\n",
    "\n",
    "# Define the state structure used in the graph\n",
    "class QuadState(TypedDict):\n",
    "    a: int\n",
    "    b: int\n",
    "    c: int\n",
    "    equation: str\n",
    "    discriminant: float\n",
    "    result: str\n",
    "\n",
    "# Step 1: Show the quadratic equation in a readable format\n",
    "def show_equation(state: QuadState):\n",
    "    # Proper formatting of equation like: 1x² + 2x + 3\n",
    "    equation = f'{state[\"a\"]}x² + {state[\"b\"]}x + {state[\"c\"]}'\n",
    "    return {\"equation\": equation}\n",
    "\n",
    "# Step 2: Calculate the discriminant (b² - 4ac)\n",
    "def calculate_discriminant(state: QuadState):\n",
    "    discriminant = state[\"b\"]**2 - 4 * state[\"a\"] * state[\"c\"]\n",
    "    return {\"discriminant\": discriminant}\n",
    "\n",
    "# Step 3a: If discriminant > 0 → Two distinct real roots\n",
    "def real_roots(state: QuadState):\n",
    "    # Corrected denominator from 2*b ➝ 2*a\n",
    "    root_1 = (-state[\"b\"] + state[\"discriminant\"]**0.5) / (2 * state[\"a\"])\n",
    "    root_2 = (-state[\"b\"] - state[\"discriminant\"]**0.5) / (2 * state[\"a\"])\n",
    "    result = f\"The roots are {root_1:.2f} and {root_2:.2f}\"\n",
    "    return {\"result\": result}\n",
    "\n",
    "# Step 3b: If discriminant == 0 → One repeated root\n",
    "def repeated_roots(state: QuadState):\n",
    "    root = -state[\"b\"] / (2 * state[\"a\"])\n",
    "    result = f\"Only repeating root is {root:.2f}\"\n",
    "    return {\"result\": result}\n",
    "\n",
    "# Step 3c: If discriminant < 0 → No real roots\n",
    "def no_real_roots(state: QuadState):\n",
    "    result = \"No real roots\"\n",
    "    return {\"result\": result}\n",
    "\n",
    "# Conditional branching based on discriminant value\n",
    "def check_condition(state: QuadState) -> Literal[\"real_roots\", \"repeated_roots\", \"no_real_roots\"]:\n",
    "    if state[\"discriminant\"] > 0:\n",
    "        return \"real_roots\"\n",
    "    elif state[\"discriminant\"] == 0:\n",
    "        return \"repeated_roots\"\n",
    "    else:\n",
    "        return \"no_real_roots\"\n",
    "\n",
    "# Build the LangGraph\n",
    "graph = StateGraph(QuadState)\n",
    "\n",
    "# Add nodes to the graph\n",
    "graph.add_node(\"show_equation\", show_equation)\n",
    "graph.add_node(\"calculate_discriminant\", calculate_discriminant)\n",
    "graph.add_node(\"real_roots\", real_roots)\n",
    "graph.add_node(\"repeated_roots\", repeated_roots)\n",
    "graph.add_node(\"no_real_roots\", no_real_roots)\n",
    "\n",
    "# Define the graph edges (flow)\n",
    "graph.add_edge(START, \"show_equation\")\n",
    "graph.add_edge(\"show_equation\", \"calculate_discriminant\")\n",
    "\n",
    "# Conditional path branching after discriminant evaluation\n",
    "graph.add_conditional_edges(\"calculate_discriminant\", check_condition)\n",
    "\n",
    "# All result-producing nodes go to END\n",
    "graph.add_edge(\"real_roots\", END)\n",
    "graph.add_edge(\"repeated_roots\", END)\n",
    "graph.add_edge(\"no_real_roots\", END)\n",
    "\n",
    "# Compile the workflow\n",
    "workflow = graph.compile()\n",
    "workflow"
   ]
  },
  {
   "cell_type": "code",
   "execution_count": 16,
   "id": "d83cf104",
   "metadata": {},
   "outputs": [
    {
     "data": {
      "text/plain": [
       "{'a': 4,\n",
       " 'b': -5,\n",
       " 'c': -4,\n",
       " 'equation': '4x² + -5x + -4',\n",
       " 'discriminant': 89,\n",
       " 'result': 'The roots are 1.80 and -0.55'}"
      ]
     },
     "execution_count": 16,
     "metadata": {},
     "output_type": "execute_result"
    }
   ],
   "source": [
    "initial_state = {\n",
    "    'a' : 4, \n",
    "    'b' : -5, \n",
    "    'c' : -4\n",
    "}\n",
    "\n",
    "workflow.invoke(initial_state)"
   ]
  },
  {
   "cell_type": "markdown",
   "id": "8d6f834b",
   "metadata": {},
   "source": [
    "## ⭕ **Loan Approval System**"
   ]
  },
  {
   "cell_type": "markdown",
   "id": "91a8e52d",
   "metadata": {},
   "source": [
    "**We'll build a LangGraph workflow that:**\n",
    "\n",
    "- Gathers applicant data\n",
    "- Calculates a credit score\n",
    "- Decides based on multiple thresholds:\n",
    "  - 🟢 Approve loan\n",
    "  - 🟡 Refer to manual review\n",
    "  - 🔴 Reject loan\n",
    "- Each condition leads to a different downstream path with more logic."
   ]
  },
  {
   "cell_type": "code",
   "execution_count": 1,
   "id": "f486330d",
   "metadata": {},
   "outputs": [
    {
     "data": {
      "image/png": "[encoded data removed]",
      "text/plain": [
       "<langgraph.graph.state.CompiledStateGraph object at 0x116b802f0>"
      ]
     },
     "execution_count": 1,
     "metadata": {},
     "output_type": "execute_result"
    }
   ],
   "source": [
    "from langgraph.graph import StateGraph, START, END\n",
    "from typing import TypedDict, Literal\n",
    "\n",
    "class LoanState(TypedDict):\n",
    "    name: str\n",
    "    age: int\n",
    "    income: float\n",
    "    loan_amount: float\n",
    "    credit_score: float\n",
    "    decision: str\n",
    "    remarks: str\n",
    "\n",
    "# Step 1: Calculate Credit Score\n",
    "def calculate_credit_score(state: LoanState):\n",
    "    score = (state[\"income\"] / state[\"loan_amount\"]) * 100\n",
    "    return {\"credit_score\": score}\n",
    "\n",
    "# Step 2: Evaluate Credit Score\n",
    "def evaluate_credit_score(state: LoanState) -> Literal[\"approve\", \"manual_review\", \"reject\"]:\n",
    "    score = state[\"credit_score\"]\n",
    "    if score >= 250:\n",
    "        return \"approve\"\n",
    "    elif 150 <= score < 250:\n",
    "        return \"manual_review\"\n",
    "    else:\n",
    "        return \"reject\"\n",
    "\n",
    "# Step 3a: Auto-Approval Logic\n",
    "def approve_loan(state: LoanState):\n",
    "    return {\n",
    "        \"decision\": \"Approved ✅\",\n",
    "        \"remarks\": f\"Loan approved for {state['name']} with credit score {state['credit_score']:.2f}\"\n",
    "    }\n",
    "\n",
    "# Step 3b: Manual Review Path\n",
    "def manual_review(state: LoanState):\n",
    "    remarks = f\"Loan referred for manual review for {state['name']}.\"\n",
    "    return {\"decision\": \"Pending Manual Review 🕵️‍♂️\", \"remarks\": remarks}\n",
    "\n",
    "# Step 3c: Auto-Rejection Logic\n",
    "def reject_loan(state: LoanState):\n",
    "    return {\n",
    "        \"decision\": \"Rejected ❌\",\n",
    "        \"remarks\": f\"Loan rejected for {state['name']} due to low credit score ({state['credit_score']:.2f})\"\n",
    "    }\n",
    "\n",
    "# Create graph\n",
    "graph = StateGraph(LoanState)\n",
    "\n",
    "graph.add_node(\"calculate_credit_score\", calculate_credit_score)\n",
    "graph.add_node(\"approve\", approve_loan)\n",
    "graph.add_node(\"manual_review\", manual_review)\n",
    "graph.add_node(\"reject\", reject_loan)\n",
    "\n",
    "# Connect nodes\n",
    "graph.add_edge(START, \"calculate_credit_score\")\n",
    "graph.add_conditional_edges(\"calculate_credit_score\", evaluate_credit_score)\n",
    "graph.add_edge(\"approve\", END)\n",
    "graph.add_edge(\"manual_review\", END)\n",
    "graph.add_edge(\"reject\", END)\n",
    "\n",
    "# Compile the workflow\n",
    "workflow = graph.compile()\n",
    "\n",
    "workflow"
   ]
  },
  {
   "cell_type": "code",
   "execution_count": 3,
   "id": "c75567fc",
   "metadata": {},
   "outputs": [
    {
     "name": "stdout",
     "output_type": "stream",
     "text": [
      "{'name': 'Alice', 'age': 30, 'income': 6000, 'loan_amount': 200, 'credit_score': 3000.0, 'decision': 'Approved ✅', 'remarks': 'Loan approved for Alice with credit score 3000.00'}\n"
     ]
    }
   ],
   "source": [
    "initial_state = {\n",
    "    \"name\": \"Alice\",\n",
    "    \"age\": 30,\n",
    "    \"income\": 6000,\n",
    "    \"loan_amount\": 200,\n",
    "}\n",
    "\n",
    "result = workflow.invoke(initial_state)\n",
    "print(result)"
   ]
  },
  {
   "cell_type": "markdown",
   "id": "943ba15d",
   "metadata": {},
   "source": [
    "## ⭕ **Smart Customer Support Bot with Escalation Path**"
   ]
  },
  {
   "cell_type": "markdown",
   "id": "4faccb8f",
   "metadata": {},
   "source": [
    "**🔍 Goal:**\n",
    "***Create a multi-path workflow that:***\n",
    "- Handles customer complaints\n",
    "- Uses basic NLP logic to route tickets\n",
    "- Escalates to a human agent if:\n",
    "  - *User is angry (based on sentiment)*\n",
    "  - *Or it's a high-priority issue*\n",
    "  - *Or the bot failed to resolve the issue*\n",
    "- Resolves simple issues automatically\n",
    "\n",
    "---\n",
    "\n",
    "**💡 Core Concepts Used:**\n",
    "- Conditional branching based on sentiment + issue category\n",
    "- Auto-resolution vs escalation\n",
    "- NLP-like keyword-based routing"
   ]
  },
  {
   "cell_type": "code",
   "execution_count": 4,
   "id": "9b0b2526",
   "metadata": {},
   "outputs": [
    {
     "data": {
      "image/png": "[encoded data removed]",
      "text/plain": [
       "<langgraph.graph.state.CompiledStateGraph object at 0x116ba5090>"
      ]
     },
     "execution_count": 4,
     "metadata": {},
     "output_type": "execute_result"
    }
   ],
   "source": [
    "from langgraph.graph import StateGraph, START, END\n",
    "from typing import TypedDict, Literal\n",
    "\n",
    "class SupportState(TypedDict):\n",
    "    user_name: str\n",
    "    issue: str\n",
    "    sentiment: str\n",
    "    category: str\n",
    "    decision: str\n",
    "    resolution: str\n",
    "\n",
    "# Step 1: Simple Sentiment + Category Classification (mocked)\n",
    "def classify_issue(state: SupportState):\n",
    "    issue = state[\"issue\"].lower()\n",
    "    sentiment = \"angry\" if \"refund\" in issue or \"worst\" in issue else \"neutral\"\n",
    "    \n",
    "    if \"payment\" in issue or \"refund\" in issue:\n",
    "        category = \"billing\"\n",
    "    elif \"login\" in issue:\n",
    "        category = \"authentication\"\n",
    "    elif \"feature\" in issue:\n",
    "        category = \"product\"\n",
    "    else:\n",
    "        category = \"general\"\n",
    "    \n",
    "    return {\"sentiment\": sentiment, \"category\": category}\n",
    "\n",
    "# Step 2: Condition-Based Decision Path\n",
    "def route_ticket(state: SupportState) -> Literal[\"auto_resolve\", \"escalate\"]:\n",
    "    # Escalate if angry or critical category\n",
    "    if state[\"sentiment\"] == \"angry\" or state[\"category\"] in [\"billing\", \"authentication\"]:\n",
    "        return \"escalate\"\n",
    "    return \"auto_resolve\"\n",
    "\n",
    "# Step 3a: Auto-Resolution\n",
    "def auto_resolve(state: SupportState):\n",
    "    msg = f\"Hi {state['user_name']}, we’ve resolved your issue regarding {state['category']} ✅\"\n",
    "    return {\"decision\": \"Resolved Automatically\", \"resolution\": msg}\n",
    "\n",
    "# Step 3b: Escalate to Human\n",
    "def escalate(state: SupportState):\n",
    "    msg = f\"Hi {state['user_name']}, your {state['category']} issue has been escalated to a human agent 🚨\"\n",
    "    return {\"decision\": \"Escalated to Human\", \"resolution\": msg}\n",
    "\n",
    "# Build the graph\n",
    "graph = StateGraph(SupportState)\n",
    "\n",
    "graph.add_node(\"classify_issue\", classify_issue)\n",
    "graph.add_node(\"auto_resolve\", auto_resolve)\n",
    "graph.add_node(\"escalate\", escalate)\n",
    "\n",
    "graph.add_edge(START, \"classify_issue\")\n",
    "graph.add_conditional_edges(\"classify_issue\", route_ticket)\n",
    "graph.add_edge(\"auto_resolve\", END)\n",
    "graph.add_edge(\"escalate\", END)\n",
    "\n",
    "workflow = graph.compile()\n",
    "workflow"
   ]
  },
  {
   "cell_type": "code",
   "execution_count": 5,
   "id": "f60ca336",
   "metadata": {},
   "outputs": [
    {
     "data": {
      "text/plain": [
       "{'user_name': 'Rohit',\n",
       " 'issue': 'I want a refund! Worst service ever.',\n",
       " 'sentiment': 'angry',\n",
       " 'category': 'billing',\n",
       " 'decision': 'Escalated to Human',\n",
       " 'resolution': 'Hi Rohit, your billing issue has been escalated to a human agent 🚨'}"
      ]
     },
     "execution_count": 5,
     "metadata": {},
     "output_type": "execute_result"
    }
   ],
   "source": [
    "workflow.invoke({\n",
    "    \"user_name\": \"Rohit\",\n",
    "    \"issue\": \"I want a refund! Worst service ever.\",\n",
    "})"
   ]
  },
  {
   "cell_type": "markdown",
   "id": "7f65baed",
   "metadata": {},
   "source": [
    "## ⭕ **LLM based Review Handling Workflow**"
   ]
  },
  {
   "cell_type": "markdown",
   "id": "a649f5b0",
   "metadata": {},
   "source": [
    "### 🔄 **LLM-Based Review Handling Workflow (LangGraph)**\n",
    "\n",
    "* **🎯 Goal**:\n",
    "\n",
    "  * Take a customer review → Analyze sentiment → Generate appropriate response.\n",
    "\n",
    "---\n",
    "\n",
    "### 🧠 Step 1: Sentiment Analysis\n",
    "\n",
    "* Input: Customer review text.\n",
    "* Uses **GPT-4o mini** to classify sentiment (**Positive** or **Negative**).\n",
    "* Utilizes `SentimentSchema` to enforce structured output.\n",
    "\n",
    "---\n",
    "\n",
    "### 🔀 Step 2: Conditional Workflow (Based on Sentiment)\n",
    "\n",
    "* Handled by `check_sentiment` function.\n",
    "* Like an **if-else** branch:\n",
    "\n",
    "  * **Positive → Positive Response**\n",
    "  * **Negative → Diagnosis → Negative Response**\n",
    "\n",
    "---\n",
    "\n",
    "### ✅ Positive Sentiment Path\n",
    "\n",
    "* Node: `positive_response`\n",
    "* LLM generates:\n",
    "\n",
    "  * Warm thank-you message.\n",
    "  * Prompt to leave feedback on website.\n",
    "\n",
    "---\n",
    "\n",
    "### ❌ Negative Sentiment Path\n",
    "\n",
    "* Node 1: `run_diagnosis`\n",
    "\n",
    "  * LLM extracts structured data via `DiagnosisSchema`:\n",
    "\n",
    "    1. **Issue Type** (e.g., UX, bug, support)\n",
    "    2. **Tonality** (e.g., angry, polite, confused)\n",
    "    3. **Urgency** (low, medium, high)\n",
    "* Node 2: `negative_response`\n",
    "\n",
    "  * LLM generates empathetic, helpful response using diagnosis data.\n",
    "\n",
    "---\n",
    "\n",
    "### ⚙️ LangGraph Structure\n",
    "\n",
    "* **State (`ReviewState`)**:\n",
    "\n",
    "  * `review`, `sentiment`, `diagnosis`, `response`\n",
    "* **Nodes**:\n",
    "\n",
    "  * `find_sentiment`, `positive_response`, `run_diagnosis`, `negative_response`\n",
    "* **Edges**:\n",
    "\n",
    "  * Regular: `start → find_sentiment → [response nodes] → end`\n",
    "  * Conditional: `find_sentiment → (positive or negative branch)`\n",
    "\n",
    "---\n",
    "\n",
    "### ✅ Outcome:\n",
    "\n",
    "* Smart, **context-aware**, and **tailored replies** based on review sentiment and details.\n"
   ]
  },
  {
   "cell_type": "code",
   "execution_count": null,
   "id": "d8b68189",
   "metadata": {},
   "outputs": [
    {
     "name": "stdout",
     "output_type": "stream",
     "text": [
      "negative\n"
     ]
    },
    {
     "data": {
      "image/png": "[encoded data removed]",
      "text/plain": [
       "<langgraph.graph.state.CompiledStateGraph object at 0x000001247C1050F0>"
      ]
     },
     "execution_count": 24,
     "metadata": {},
     "output_type": "execute_result"
    }
   ],
   "source": [
    "# ===============================\n",
    "# Imports\n",
    "# ===============================\n",
    "from langgraph.graph import StateGraph, START, END\n",
    "from langchain_groq import ChatGroq\n",
    "from typing import TypedDict, Literal\n",
    "from dotenv import load_dotenv\n",
    "from pydantic import BaseModel, Field\n",
    "\n",
    "# ===============================\n",
    "# Environment Setup\n",
    "# ===============================\n",
    "load_dotenv()\n",
    "\n",
    "# ===============================\n",
    "# LLM Model Initialization\n",
    "# ===============================\n",
    "model = ChatGroq(\n",
    "    model=\"llama-3.1-8b-instant\",\n",
    "    temperature=0.7,\n",
    "    max_tokens=100\n",
    ")\n",
    "\n",
    "# ===============================\n",
    "# Output Schemas\n",
    "# ===============================\n",
    "class SentimentSchema(BaseModel):\n",
    "    sentiment: Literal[\"positive\", \"negative\"] = Field(description=\"Sentiment of the review\")\n",
    "\n",
    "class DiagnosisSchema(BaseModel):\n",
    "    issue_type: Literal[\"UX\", \"Performance\", \"Bug\", \"Support\", \"Other\"] = Field(description=\"The category of issue mentioned in the review\")\n",
    "    tone: Literal[\"angry\", \"frustrated\", \"disappointed\", \"calm\"] = Field(description=\"The emotional tone expressed by the user\")\n",
    "    urgency: Literal[\"low\", \"medium\", \"high\"] = Field(description=\"How urgent or critical the issue appears to be\")\n",
    "\n",
    "# ===============================\n",
    "# Structured Output Wrappers\n",
    "# ===============================\n",
    "structured_model = model.with_structured_output(SentimentSchema)\n",
    "structured_model2 = model.with_structured_output(DiagnosisSchema)\n",
    "\n",
    "# ===============================\n",
    "# Quick Test (Optional)\n",
    "# ===============================\n",
    "prompt = \"What is the sentiment of the following review - The software is buggy\"\n",
    "print(structured_model.invoke(prompt).sentiment)\n",
    "\n",
    "# ===============================\n",
    "# Review State Definition\n",
    "# ===============================\n",
    "class ReviewState(TypedDict):\n",
    "    review: str\n",
    "    sentiment: Literal[\"positive\", \"negative\"]\n",
    "    diagnosis: dict\n",
    "    response: str\n",
    "\n",
    "# ===============================\n",
    "# Step: Find Sentiment\n",
    "# ===============================\n",
    "def find_sentiment(state: ReviewState):\n",
    "    prompt = f\"For the following review find out the sentiment:\\n{state['review']}\"\n",
    "    sentiment = structured_model.invoke(prompt).sentiment\n",
    "    return {'sentiment': sentiment}\n",
    "\n",
    "# ===============================\n",
    "# Conditional Step: Check Sentiment\n",
    "# ===============================\n",
    "def check_sentiment(state: ReviewState) -> Literal[\"positive_response\", \"run_diagnosis\"]:\n",
    "    if state['sentiment'] == 'positive':\n",
    "        return 'positive_response'\n",
    "    else:\n",
    "        return 'run_diagnosis'\n",
    "\n",
    "# ===============================\n",
    "# Step: Positive Response\n",
    "# ===============================\n",
    "def positive_response(state: ReviewState):\n",
    "    prompt = f\"\"\"Write a warm thank-you message in response to this review:\n",
    "                \\n\\n\\\"{state['review']}\\\"\\n\n",
    "                Also, kindly ask the user to leave feedback on our website.\"\"\"\n",
    "    response = model.invoke(prompt).content\n",
    "    return {'response': response}\n",
    "\n",
    "# ===============================\n",
    "# Step: Run Diagnosis\n",
    "# ===============================\n",
    "def run_diagnosis(state: ReviewState):\n",
    "    # Construct a prompt asking the model to analyze the review and extract structured information.\n",
    "    prompt = f\"\"\"Diagnose this negative review:\\n\\n{state['review']}\\n\n",
    "                return issue_type, tone, and urgency.\"\"\"\n",
    "\n",
    "    # Invoke the model with the prompt using the structured output schema (DiagnosisSchema).\n",
    "    response = structured_model2.invoke(prompt)\n",
    "\n",
    "    # Convert the structured model output (a Pydantic model) into a plain Python dictionary.\n",
    "    # This is necessary because LangGraph nodes typically return simple dicts, not Pydantic objects.\n",
    "    return {'diagnosis': response.model_dump()} # converts this into a standard Python dictionary, which is easier to store, log, or pass through the LangGraph workflow.\n",
    "\n",
    "\n",
    "# ===============================\n",
    "# Step: Negative Response\n",
    "# ===============================\n",
    "def negative_response(state: ReviewState):\n",
    "    diagnosis = state['diagnosis']\n",
    "    prompt = f\"\"\"You are a support assistant.\n",
    "                The user had a '{diagnosis['issue_type']}' issue, sounded '{diagnosis['tone']}', and marked urgency as '{diagnosis['urgency']}'.\n",
    "                Write an empathetic, helpful resolution message.\"\"\"\n",
    "    response = model.invoke(prompt).content\n",
    "    return {'response': response}\n",
    "\n",
    "# ===============================\n",
    "# LangGraph Workflow Definition\n",
    "# ===============================\n",
    "graph = StateGraph(ReviewState)\n",
    "\n",
    "# Add Nodes\n",
    "graph.add_node('find_sentiment', find_sentiment)\n",
    "graph.add_node('positive_response', positive_response)\n",
    "graph.add_node('run_diagnosis', run_diagnosis)\n",
    "graph.add_node('negative_response', negative_response)\n",
    "\n",
    "# Define Edges\n",
    "graph.add_edge(START, 'find_sentiment')\n",
    "graph.add_conditional_edges('find_sentiment', check_sentiment)\n",
    "graph.add_edge('positive_response', END)\n",
    "graph.add_edge('run_diagnosis', 'negative_response')\n",
    "graph.add_edge('negative_response', END)\n",
    "\n",
    "# Compile the workflow\n",
    "workflow = graph.compile()\n",
    "workflow"
   ]
  },
  {
   "cell_type": "markdown",
   "id": "c983b6d2",
   "metadata": {},
   "source": [
    "***Positive Review***"
   ]
  },
  {
   "cell_type": "code",
   "execution_count": 25,
   "id": "00c33d5b",
   "metadata": {},
   "outputs": [
    {
     "data": {
      "text/plain": [
       "{'review': 'The new update is amazing! Everything feels faster and more intuitive. Great job by the dev team — really impressed!',\n",
       " 'sentiment': 'positive',\n",
       " 'response': '\"Thank you so much for taking the time to share your positive experience with the latest update. We\\'re thrilled to hear that everything feels faster and more intuitive for you, and we\\'re grateful for your kind words about our dev team. \\n\\nYour enthusiasm is truly appreciated and motivates us to continue delivering high-quality updates. If you have a moment, we\\'d love to hear more about your experience on our website - your feedback will help us shape the future of our product. Please visit our site and'}"
      ]
     },
     "execution_count": 25,
     "metadata": {},
     "output_type": "execute_result"
    }
   ],
   "source": [
    "initial_state = {\n",
    "    'review': \"The new update is amazing! Everything feels faster and more intuitive. Great job by the dev team — really impressed!\"\n",
    "}\n",
    "workflow.invoke(initial_state)"
   ]
  },
  {
   "cell_type": "markdown",
   "id": "090b55d4",
   "metadata": {},
   "source": [
    "***Negative Review***"
   ]
  },
  {
   "cell_type": "code",
   "execution_count": 26,
   "id": "2d266531",
   "metadata": {},
   "outputs": [
    {
     "name": "stdout",
     "output_type": "stream",
     "text": [
      "Pydantic JSON:  issue_type='Performance' tone='frustrated' urgency='high'\n"
     ]
    },
    {
     "data": {
      "text/plain": [
       "{'review': 'The checkout process is painfully slow and keeps throwing errors. I’ve had to restart multiple times, and it’s really frustrating. This needs to be fixed ASAP.',\n",
       " 'sentiment': 'negative',\n",
       " 'diagnosis': {'issue_type': 'Performance',\n",
       "  'tone': 'frustrated',\n",
       "  'urgency': 'high'},\n",
       " 'response': \"Subject: Urgent: Performance Issue Assistance\\n\\nDear [User],\\n\\nI'm so sorry to hear that you're experiencing a performance issue with our system. I can imagine how frustrating it must be to encounter slow speeds or errors that hinder your productivity. I want to assure you that I'm here to help and will do my best to resolve the issue as quickly as possible.\\n\\nTo better understand the issue, could you please provide me with more details about what you've experienced? This includes:\\n\\n- The steps\"}"
      ]
     },
     "execution_count": 26,
     "metadata": {},
     "output_type": "execute_result"
    }
   ],
   "source": [
    "initial_state = {\n",
    "    'review': \"The checkout process is painfully slow and keeps throwing errors. I’ve had to restart multiple times, and it’s really frustrating. This needs to be fixed ASAP.\"\n",
    "}\n",
    "\n",
    "workflow.invoke(initial_state)\n"
   ]
  }
 ],
 "metadata": {
  "kernelspec": {
   "display_name": "Agentic_AI_using_LangGraph_-_MCP",
   "language": "python",
   "name": "python3"
  },
  "language_info": {
   "codemirror_mode": {
    "name": "ipython",
    "version": 3
   },
   "file_extension": ".py",
   "mimetype": "text/x-python",
   "name": "python",
   "nbconvert_exporter": "python",
   "pygments_lexer": "ipython3",
   "version": "3.13.5"
  }
 },
 "nbformat": 4,
 "nbformat_minor": 5
}
