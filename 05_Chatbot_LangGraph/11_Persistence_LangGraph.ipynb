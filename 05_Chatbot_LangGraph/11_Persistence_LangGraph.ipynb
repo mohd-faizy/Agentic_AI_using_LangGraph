{
 "cells": [
  {
   "cell_type": "markdown",
   "id": "86536a33",
   "metadata": {},
   "source": [
    "# **📘LangGraph Persistence**"
   ]
  },
  {
   "cell_type": "markdown",
   "id": "feb066e6",
   "metadata": {},
   "source": [
    "### 🔹 1. **What is Persistence in LangGraph?**\n",
    "\n",
    "* Refers to the **ability to save and restore the state of a workflow** over time.\n",
    "* Solves LangGraph's default behavior where state is erased after execution.\n",
    "* Enables **workflow state** (both intermediate and final) to be stored in external storage (e.g., databases).\n",
    "\n",
    "---\n",
    "\n",
    "### 🔹 2. **Core Concepts**\n",
    "\n",
    "#### 📊 Graphs and Tasks\n",
    "\n",
    "* High-level goals are broken down into **tasks**.\n",
    "* Represented as a **graph**: nodes = tasks, edges = execution order.\n",
    "\n",
    "#### 💾 State\n",
    "\n",
    "* Central shared **dictionary-like structure** used by all nodes.\n",
    "* Nodes can **read and write** to the state.\n",
    "* Includes data like inputs, results, and context (e.g., messages in a chatbot).\n",
    "\n",
    "---\n",
    "\n",
    "### 🔹 3. **Why Persistence is Needed**\n",
    "\n",
    "* **Short-Term Memory (Chatbots)**:\n",
    "\n",
    "  * Enables conversation history to persist and resume.\n",
    "\n",
    "* **Fault Tolerance**:\n",
    "\n",
    "  * If a crash occurs, execution can **resume from the last checkpoint**, not from the start.\n",
    "\n",
    "* **Human-in-the-Loop (HITL)**:\n",
    "\n",
    "  * Supports pausing workflows and resuming later without losing progress.\n",
    "\n",
    "* **Time Travel (Debugging & Replay)**:\n",
    "\n",
    "  * Allows replaying past execution from any checkpoint.\n",
    "  * Useful for debugging or re-running modified state paths.\n",
    "\n",
    "---\n",
    "\n",
    "### 🔹 4. **How Persistence Works**\n",
    "\n",
    "#### 🧠 A. Checkpointers\n",
    "\n",
    "* Divide execution into **checkpoints** at each **superstep** (can include parallel tasks).\n",
    "* Save state (intermediate + final) to storage.\n",
    "* Types:\n",
    "\n",
    "  * `InMemorySaver`: For demos (RAM only).\n",
    "  * **Database-backed** (e.g., PostgreSQL, Redis): For production.\n",
    "* Usage:\n",
    "\n",
    "  * Instantiate checkpointer and pass into `graph.compile(checkpointer=...)`.\n",
    "\n",
    "#### 🧵 B. Thread IDs\n",
    "\n",
    "* Assign unique `thread_id` for each workflow execution.\n",
    "* Allow **tracking and retrieving state history** per execution.\n",
    "* Used to distinguish between different conversations/users in chatbots.\n",
    "* Functions:\n",
    "\n",
    "  * `workflow.get_state(config)`\n",
    "  * `workflow.get_state_history(config)`\n",
    "\n",
    "---\n",
    "\n",
    "### 🔹 5. **Practical Example**\n",
    "\n",
    "#### 💡 Joke Workflow\n",
    "\n",
    "* **State**: `{ joke_topic, joke_text, joke_explanation }`\n",
    "* **Nodes**:\n",
    "\n",
    "  * `generate_joke`\n",
    "  * `generate_explanation`\n",
    "* **Execution**:\n",
    "\n",
    "  * Run with topic = `\"pizza\"`, `thread_id = \"1\"`\n",
    "  * Another run with topic = `\"pasta\"`, `thread_id = \"2\"`\n",
    "* **Result**:\n",
    "\n",
    "  * Both have isolated, retrievable state histories.\n",
    "\n",
    "---\n",
    "\n",
    "### 🔹 6. **Key Features Enabled by Persistence**\n",
    "\n",
    "#### 💬 Chatbots with Memory\n",
    "\n",
    "* Resume conversations using stored state per thread.\n",
    "\n",
    "#### 🔁 Fault Tolerance\n",
    "\n",
    "* Resume from crash point using last checkpoint.\n",
    "\n",
    "#### 👤 HITL Support\n",
    "\n",
    "* Temporarily pause and resume workflows after human input.\n",
    "\n",
    "#### 🕰️ Time Travel\n",
    "\n",
    "* Replay or debug workflows from any saved checkpoint.\n",
    "* Use `checkpoint_id` to:\n",
    "\n",
    "  * Retrieve specific state.\n",
    "  * Update state.\n",
    "  * Resume or re-run workflow.\n",
    "\n",
    "---\n",
    "\n",
    "### 🔹 7. **Key Methods and Usage**\n",
    "\n",
    "| Purpose                    | Method / Tool                                                         |\n",
    "| -------------------------- | --------------------------------------------------------------------- |\n",
    "| Define checkpointer        | `InMemorySaver()` or DB-backed checkpointers                          |\n",
    "| Compile with persistence   | `graph.compile(checkpointer=...)`                                     |\n",
    "| Run with thread ID         | `workflow.invoke(..., config={\"configurable\": {\"thread_id\": \"...\"}})` |\n",
    "| Get final state            | `workflow.get_state(config)`                                          |\n",
    "| Get state history          | `workflow.get_state_history(config)`                                  |\n",
    "| Resume from checkpoint     | `invoke(None, config={..., \"checkpoint_id\": \"...\"})`                  |\n",
    "| Update state before replay | `workflow.update_state(...)`                                          |"
   ]
  },
  {
   "cell_type": "code",
   "execution_count": 64,
   "id": "a3768199",
   "metadata": {},
   "outputs": [
    {
     "data": {
      "text/plain": [
       "True"
      ]
     },
     "execution_count": 64,
     "metadata": {},
     "output_type": "execute_result"
    }
   ],
   "source": [
    "from langgraph.graph import StateGraph, START, END\n",
    "from typing import TypedDict\n",
    "from langchain_groq import ChatGroq\n",
    "from langgraph.checkpoint.memory import InMemorySaver\n",
    "\n",
    "from dotenv import load_dotenv\n",
    "load_dotenv()"
   ]
  },
  {
   "cell_type": "code",
   "execution_count": 65,
   "id": "7dd766f8",
   "metadata": {},
   "outputs": [],
   "source": [
    "# Initialize the ChatGroq LLM \n",
    "llm = ChatGroq(model=\"llama-3.1-8b-instant\")"
   ]
  },
  {
   "cell_type": "code",
   "execution_count": 66,
   "id": "e14af7d9",
   "metadata": {},
   "outputs": [],
   "source": [
    "class JokeState(TypedDict):\n",
    "\n",
    "    topic: str\n",
    "    joke: str\n",
    "    explanation: str"
   ]
  },
  {
   "cell_type": "code",
   "execution_count": 67,
   "id": "f7ff2900",
   "metadata": {},
   "outputs": [],
   "source": [
    "def generate_joke(state: JokeState):\n",
    "    prompt = f'generate a joke on the topic {state[\"topic\"]}'\n",
    "    response = llm.invoke(prompt).content\n",
    "    return {'joke': response}\n",
    "\n",
    "def generate_explanation(state: JokeState):\n",
    "    prompt = f'write an explanation for the joke - {state[\"joke\"]}'\n",
    "    response = llm.invoke(prompt).content\n",
    "    return {'explanation': response}"
   ]
  },
  {
   "cell_type": "code",
   "execution_count": 68,
   "id": "265f9dfc",
   "metadata": {},
   "outputs": [
    {
     "data": {
      "image/png": "[encoded data removed]",
      "text/plain": [
       "<langgraph.graph.state.CompiledStateGraph object at 0x000001AF0687F230>"
      ]
     },
     "execution_count": 68,
     "metadata": {},
     "output_type": "execute_result"
    }
   ],
   "source": [
    "graph = StateGraph(JokeState)\n",
    "\n",
    "graph.add_node('generate_joke', generate_joke)\n",
    "graph.add_node('generate_explanation', generate_explanation)\n",
    "\n",
    "graph.add_edge(START, 'generate_joke')\n",
    "graph.add_edge('generate_joke', 'generate_explanation')\n",
    "graph.add_edge('generate_explanation', END)\n",
    "\n",
    "checkpointer = InMemorySaver()\n",
    "\n",
    "workflow = graph.compile(checkpointer=checkpointer)\n",
    "workflow"
   ]
  },
  {
   "cell_type": "markdown",
   "id": "a6dafc36",
   "metadata": {},
   "source": [
    "### **📥Config1**"
   ]
  },
  {
   "cell_type": "code",
   "execution_count": 69,
   "id": "756ce561",
   "metadata": {},
   "outputs": [
    {
     "data": {
      "text/plain": [
       "{'topic': 'frog',\n",
       " 'joke': 'Why did the frog go to the doctor?\\n\\nBecause it had a \"toad-ally\" bad cough.',\n",
       " 'explanation': 'The joke is a play on words, using a pun to create humor. The phrase \"toad-ally\" is a clever pun on the word \"totally,\" which is a common adverb meaning completely or entirely. However, in this joke, it\\'s replaced with \"toad-ally,\" referencing the fact that a toad is a type of amphibian, closely related to frogs.\\n\\nThe joke relies on this wordplay to create a pun, which is a form of humor that exploits multiple meanings of a word or phrase. In this case, the pun is used to create a clever and unexpected connection between the idea of a frog\\'s bad cough and the word \"toad-ally,\" creating a lighthearted and amusing effect.\\n\\nThe joke also uses a bit of unexpected twist, as it sets up the expectation that the frog went to the doctor for a serious reason, but instead subverts it with a pun, making it a clever and amusing way to end the joke.'}"
      ]
     },
     "execution_count": 69,
     "metadata": {},
     "output_type": "execute_result"
    }
   ],
   "source": [
    "config1 = {\"configurable\": {\"thread_id\": \"1\"}}\n",
    "workflow.invoke({'topic':'frog'}, config=config1)"
   ]
  },
  {
   "cell_type": "code",
   "execution_count": 70,
   "id": "56004c59",
   "metadata": {},
   "outputs": [
    {
     "data": {
      "text/plain": [
       "StateSnapshot(values={'topic': 'frog', 'joke': 'Why did the frog go to the doctor?\\n\\nBecause it had a \"toad-ally\" bad cough.', 'explanation': 'The joke is a play on words, using a pun to create humor. The phrase \"toad-ally\" is a clever pun on the word \"totally,\" which is a common adverb meaning completely or entirely. However, in this joke, it\\'s replaced with \"toad-ally,\" referencing the fact that a toad is a type of amphibian, closely related to frogs.\\n\\nThe joke relies on this wordplay to create a pun, which is a form of humor that exploits multiple meanings of a word or phrase. In this case, the pun is used to create a clever and unexpected connection between the idea of a frog\\'s bad cough and the word \"toad-ally,\" creating a lighthearted and amusing effect.\\n\\nThe joke also uses a bit of unexpected twist, as it sets up the expectation that the frog went to the doctor for a serious reason, but instead subverts it with a pun, making it a clever and amusing way to end the joke.'}, next=(), config={'configurable': {'thread_id': '1', 'checkpoint_ns': '', 'checkpoint_id': '1f072d72-b1e2-6212-8002-50cbb9a6e1e1'}}, metadata={'source': 'loop', 'step': 2, 'parents': {}, 'thread_id': '1'}, created_at='2025-08-06T15:08:11.541542+00:00', parent_config={'configurable': {'thread_id': '1', 'checkpoint_ns': '', 'checkpoint_id': '1f072d72-add5-6da4-8001-4c633a658375'}}, tasks=(), interrupts=())"
      ]
     },
     "execution_count": 70,
     "metadata": {},
     "output_type": "execute_result"
    }
   ],
   "source": [
    "workflow.get_state(config1)"
   ]
  },
  {
   "cell_type": "code",
   "execution_count": 71,
   "id": "4a3d47a4",
   "metadata": {},
   "outputs": [
    {
     "data": {
      "text/plain": [
       "[StateSnapshot(values={'topic': 'frog', 'joke': 'Why did the frog go to the doctor?\\n\\nBecause it had a \"toad-ally\" bad cough.', 'explanation': 'The joke is a play on words, using a pun to create humor. The phrase \"toad-ally\" is a clever pun on the word \"totally,\" which is a common adverb meaning completely or entirely. However, in this joke, it\\'s replaced with \"toad-ally,\" referencing the fact that a toad is a type of amphibian, closely related to frogs.\\n\\nThe joke relies on this wordplay to create a pun, which is a form of humor that exploits multiple meanings of a word or phrase. In this case, the pun is used to create a clever and unexpected connection between the idea of a frog\\'s bad cough and the word \"toad-ally,\" creating a lighthearted and amusing effect.\\n\\nThe joke also uses a bit of unexpected twist, as it sets up the expectation that the frog went to the doctor for a serious reason, but instead subverts it with a pun, making it a clever and amusing way to end the joke.'}, next=(), config={'configurable': {'thread_id': '1', 'checkpoint_ns': '', 'checkpoint_id': '1f072d72-b1e2-6212-8002-50cbb9a6e1e1'}}, metadata={'source': 'loop', 'step': 2, 'parents': {}, 'thread_id': '1'}, created_at='2025-08-06T15:08:11.541542+00:00', parent_config={'configurable': {'thread_id': '1', 'checkpoint_ns': '', 'checkpoint_id': '1f072d72-add5-6da4-8001-4c633a658375'}}, tasks=(), interrupts=()),\n",
       " StateSnapshot(values={'topic': 'frog', 'joke': 'Why did the frog go to the doctor?\\n\\nBecause it had a \"toad-ally\" bad cough.'}, next=('generate_explanation',), config={'configurable': {'thread_id': '1', 'checkpoint_ns': '', 'checkpoint_id': '1f072d72-add5-6da4-8001-4c633a658375'}}, metadata={'source': 'loop', 'step': 1, 'parents': {}, 'thread_id': '1'}, created_at='2025-08-06T15:08:11.117022+00:00', parent_config={'configurable': {'thread_id': '1', 'checkpoint_ns': '', 'checkpoint_id': '1f072d72-ab84-69a8-8000-3d25b648b3f6'}}, tasks=(PregelTask(id='bd2fb827-1bc9-0e3e-2c97-218af3936500', name='generate_explanation', path=('__pregel_pull', 'generate_explanation'), error=None, interrupts=(), state=None, result={'explanation': 'The joke is a play on words, using a pun to create humor. The phrase \"toad-ally\" is a clever pun on the word \"totally,\" which is a common adverb meaning completely or entirely. However, in this joke, it\\'s replaced with \"toad-ally,\" referencing the fact that a toad is a type of amphibian, closely related to frogs.\\n\\nThe joke relies on this wordplay to create a pun, which is a form of humor that exploits multiple meanings of a word or phrase. In this case, the pun is used to create a clever and unexpected connection between the idea of a frog\\'s bad cough and the word \"toad-ally,\" creating a lighthearted and amusing effect.\\n\\nThe joke also uses a bit of unexpected twist, as it sets up the expectation that the frog went to the doctor for a serious reason, but instead subverts it with a pun, making it a clever and amusing way to end the joke.'}),), interrupts=()),\n",
       " StateSnapshot(values={'topic': 'frog'}, next=('generate_joke',), config={'configurable': {'thread_id': '1', 'checkpoint_ns': '', 'checkpoint_id': '1f072d72-ab84-69a8-8000-3d25b648b3f6'}}, metadata={'source': 'loop', 'step': 0, 'parents': {}, 'thread_id': '1'}, created_at='2025-08-06T15:08:10.874083+00:00', parent_config={'configurable': {'thread_id': '1', 'checkpoint_ns': '', 'checkpoint_id': '1f072d72-ab80-6c4b-bfff-1254ff4339de'}}, tasks=(PregelTask(id='223dfa4d-8b04-5378-4cd3-1681c8bd54df', name='generate_joke', path=('__pregel_pull', 'generate_joke'), error=None, interrupts=(), state=None, result={'joke': 'Why did the frog go to the doctor?\\n\\nBecause it had a \"toad-ally\" bad cough.'}),), interrupts=()),\n",
       " StateSnapshot(values={}, next=('__start__',), config={'configurable': {'thread_id': '1', 'checkpoint_ns': '', 'checkpoint_id': '1f072d72-ab80-6c4b-bfff-1254ff4339de'}}, metadata={'source': 'input', 'step': -1, 'parents': {}, 'thread_id': '1'}, created_at='2025-08-06T15:08:10.872522+00:00', parent_config=None, tasks=(PregelTask(id='9bf5cfa3-4da0-c595-8f15-aa95f398b6ec', name='__start__', path=('__pregel_pull', '__start__'), error=None, interrupts=(), state=None, result={'topic': 'frog'}),), interrupts=())]"
      ]
     },
     "execution_count": 71,
     "metadata": {},
     "output_type": "execute_result"
    }
   ],
   "source": [
    "list(workflow.get_state_history(config1))"
   ]
  },
  {
   "cell_type": "markdown",
   "id": "b459af76",
   "metadata": {},
   "source": [
    "### **📥Config2**"
   ]
  },
  {
   "cell_type": "code",
   "execution_count": 72,
   "id": "176ec4b1",
   "metadata": {},
   "outputs": [
    {
     "data": {
      "text/plain": [
       "{'topic': 'monkey',\n",
       " 'joke': 'Why did the monkey get kicked out of the library? \\n\\nBecause he was caught monkeying around.',\n",
       " 'explanation': 'The joke is a play on words, which is a common technique used in puns. \\n\\nThe phrase \"monkeying around\" has two meanings here: \\n\\n1. In a literal sense, a monkey is a primate known for its agility and mischievous behavior, so it\\'s not uncommon for a monkey to be active and playful, which might be interpreted as \"monkeying around.\"\\n\\n2. The phrase \"monkeying around\" is also an idiomatic expression that means to be misbehaving or causing trouble, often in a way that\\'s playful but also annoying.\\n\\nThe joke relies on this double meaning to create humor. The punchline \"because he was caught monkeying around\" is a clever play on words, as it uses the literal meaning of \"monkeying around\" to describe the monkey\\'s behavior, while also referencing the idiomatic expression to explain why the monkey got kicked out of the library. The humor comes from the unexpected twist on the phrase\\'s dual meaning.'}"
      ]
     },
     "execution_count": 72,
     "metadata": {},
     "output_type": "execute_result"
    }
   ],
   "source": [
    "config2 = {\"configurable\": {\"thread_id\": \"2\"}}\n",
    "workflow.invoke({'topic':'monkey'}, config=config2)"
   ]
  },
  {
   "cell_type": "code",
   "execution_count": 73,
   "id": "553335bb",
   "metadata": {},
   "outputs": [
    {
     "data": {
      "text/plain": [
       "StateSnapshot(values={'topic': 'monkey', 'joke': 'Why did the monkey get kicked out of the library? \\n\\nBecause he was caught monkeying around.', 'explanation': 'The joke is a play on words, which is a common technique used in puns. \\n\\nThe phrase \"monkeying around\" has two meanings here: \\n\\n1. In a literal sense, a monkey is a primate known for its agility and mischievous behavior, so it\\'s not uncommon for a monkey to be active and playful, which might be interpreted as \"monkeying around.\"\\n\\n2. The phrase \"monkeying around\" is also an idiomatic expression that means to be misbehaving or causing trouble, often in a way that\\'s playful but also annoying.\\n\\nThe joke relies on this double meaning to create humor. The punchline \"because he was caught monkeying around\" is a clever play on words, as it uses the literal meaning of \"monkeying around\" to describe the monkey\\'s behavior, while also referencing the idiomatic expression to explain why the monkey got kicked out of the library. The humor comes from the unexpected twist on the phrase\\'s dual meaning.'}, next=(), config={'configurable': {'thread_id': '2', 'checkpoint_ns': '', 'checkpoint_id': '1f072d72-b7e8-629f-8002-f2f902a7169f'}}, metadata={'source': 'loop', 'step': 2, 'parents': {}, 'thread_id': '2'}, created_at='2025-08-06T15:08:12.173159+00:00', parent_config={'configurable': {'thread_id': '2', 'checkpoint_ns': '', 'checkpoint_id': '1f072d72-b3b2-6dc0-8001-5d95b290861a'}}, tasks=(), interrupts=())"
      ]
     },
     "execution_count": 73,
     "metadata": {},
     "output_type": "execute_result"
    }
   ],
   "source": [
    "workflow.get_state(config2)"
   ]
  },
  {
   "cell_type": "code",
   "execution_count": 74,
   "id": "48573a73",
   "metadata": {},
   "outputs": [
    {
     "data": {
      "text/plain": [
       "[StateSnapshot(values={'topic': 'monkey', 'joke': 'Why did the monkey get kicked out of the library? \\n\\nBecause he was caught monkeying around.', 'explanation': 'The joke is a play on words, which is a common technique used in puns. \\n\\nThe phrase \"monkeying around\" has two meanings here: \\n\\n1. In a literal sense, a monkey is a primate known for its agility and mischievous behavior, so it\\'s not uncommon for a monkey to be active and playful, which might be interpreted as \"monkeying around.\"\\n\\n2. The phrase \"monkeying around\" is also an idiomatic expression that means to be misbehaving or causing trouble, often in a way that\\'s playful but also annoying.\\n\\nThe joke relies on this double meaning to create humor. The punchline \"because he was caught monkeying around\" is a clever play on words, as it uses the literal meaning of \"monkeying around\" to describe the monkey\\'s behavior, while also referencing the idiomatic expression to explain why the monkey got kicked out of the library. The humor comes from the unexpected twist on the phrase\\'s dual meaning.'}, next=(), config={'configurable': {'thread_id': '2', 'checkpoint_ns': '', 'checkpoint_id': '1f072d72-b7e8-629f-8002-f2f902a7169f'}}, metadata={'source': 'loop', 'step': 2, 'parents': {}, 'thread_id': '2'}, created_at='2025-08-06T15:08:12.173159+00:00', parent_config={'configurable': {'thread_id': '2', 'checkpoint_ns': '', 'checkpoint_id': '1f072d72-b3b2-6dc0-8001-5d95b290861a'}}, tasks=(), interrupts=()),\n",
       " StateSnapshot(values={'topic': 'monkey', 'joke': 'Why did the monkey get kicked out of the library? \\n\\nBecause he was caught monkeying around.'}, next=('generate_explanation',), config={'configurable': {'thread_id': '2', 'checkpoint_ns': '', 'checkpoint_id': '1f072d72-b3b2-6dc0-8001-5d95b290861a'}}, metadata={'source': 'loop', 'step': 1, 'parents': {}, 'thread_id': '2'}, created_at='2025-08-06T15:08:11.731895+00:00', parent_config={'configurable': {'thread_id': '2', 'checkpoint_ns': '', 'checkpoint_id': '1f072d72-b263-670c-8000-6a2cfd559995'}}, tasks=(PregelTask(id='19d3e7d8-16c6-b3c1-bf59-960e3662e42a', name='generate_explanation', path=('__pregel_pull', 'generate_explanation'), error=None, interrupts=(), state=None, result={'explanation': 'The joke is a play on words, which is a common technique used in puns. \\n\\nThe phrase \"monkeying around\" has two meanings here: \\n\\n1. In a literal sense, a monkey is a primate known for its agility and mischievous behavior, so it\\'s not uncommon for a monkey to be active and playful, which might be interpreted as \"monkeying around.\"\\n\\n2. The phrase \"monkeying around\" is also an idiomatic expression that means to be misbehaving or causing trouble, often in a way that\\'s playful but also annoying.\\n\\nThe joke relies on this double meaning to create humor. The punchline \"because he was caught monkeying around\" is a clever play on words, as it uses the literal meaning of \"monkeying around\" to describe the monkey\\'s behavior, while also referencing the idiomatic expression to explain why the monkey got kicked out of the library. The humor comes from the unexpected twist on the phrase\\'s dual meaning.'}),), interrupts=()),\n",
       " StateSnapshot(values={'topic': 'monkey'}, next=('generate_joke',), config={'configurable': {'thread_id': '2', 'checkpoint_ns': '', 'checkpoint_id': '1f072d72-b263-670c-8000-6a2cfd559995'}}, metadata={'source': 'loop', 'step': 0, 'parents': {}, 'thread_id': '2'}, created_at='2025-08-06T15:08:11.594501+00:00', parent_config={'configurable': {'thread_id': '2', 'checkpoint_ns': '', 'checkpoint_id': '1f072d72-b260-69cc-bfff-d5ee0204ede0'}}, tasks=(PregelTask(id='97d0b4ff-661f-afc9-3489-6c25698d01df', name='generate_joke', path=('__pregel_pull', 'generate_joke'), error=None, interrupts=(), state=None, result={'joke': 'Why did the monkey get kicked out of the library? \\n\\nBecause he was caught monkeying around.'}),), interrupts=()),\n",
       " StateSnapshot(values={}, next=('__start__',), config={'configurable': {'thread_id': '2', 'checkpoint_ns': '', 'checkpoint_id': '1f072d72-b260-69cc-bfff-d5ee0204ede0'}}, metadata={'source': 'input', 'step': -1, 'parents': {}, 'thread_id': '2'}, created_at='2025-08-06T15:08:11.593352+00:00', parent_config=None, tasks=(PregelTask(id='f4cb6535-79fe-ad89-2335-a3349bc6b9b2', name='__start__', path=('__pregel_pull', '__start__'), error=None, interrupts=(), state=None, result={'topic': 'monkey'}),), interrupts=())]"
      ]
     },
     "execution_count": 74,
     "metadata": {},
     "output_type": "execute_result"
    }
   ],
   "source": [
    "list(workflow.get_state_history(config2))"
   ]
  },
  {
   "cell_type": "markdown",
   "id": "aa9b36d9",
   "metadata": {},
   "source": [
    "## **💥1. Fault Tolerance**"
   ]
  },
  {
   "cell_type": "code",
   "execution_count": 75,
   "id": "90c366ec",
   "metadata": {},
   "outputs": [
    {
     "data": {
      "image/png": "[encoded data removed]",
      "text/plain": [
       "<langgraph.graph.state.CompiledStateGraph object at 0x000001AF077815B0>"
      ]
     },
     "execution_count": 75,
     "metadata": {},
     "output_type": "execute_result"
    }
   ],
   "source": [
    "from langgraph.graph import StateGraph, START, END\n",
    "from langgraph.checkpoint.memory import InMemorySaver\n",
    "from typing import TypedDict\n",
    "import time\n",
    "\n",
    "# 1. Define the state\n",
    "class CrashState(TypedDict, total=False):  # Use total=False to make keys optional\n",
    "    input: str\n",
    "    step1: str\n",
    "    step2: str\n",
    "    step3: str\n",
    "\n",
    "# 2. Define Steps\n",
    "def step_1(state: CrashState): \n",
    "    print(\"✅ Step 1 is Executed\")\n",
    "    return {\"step1\": \"done\", \"input\": state[\"input\"]}\n",
    "\n",
    "def step_2(state: CrashState):\n",
    "    print(\"⌛ Step 2 is hanging... now manually interrupt from the notebook toolbar (STOP Button)\")\n",
    "    time.sleep(30)  # Simulate long-running process\n",
    "    return {\"step2\": \"done\"}\n",
    "\n",
    "def step_3(state: CrashState): \n",
    "    print(\"✅ Step 3 is Executed\")\n",
    "    return {\"step3\": \"done\"}\n",
    "\n",
    "# 3. Build the graph\n",
    "builder = StateGraph(CrashState)\n",
    "builder.add_node(\"step_1\", step_1)\n",
    "builder.add_node(\"step_2\", step_2)\n",
    "builder.add_node(\"step_3\", step_3)\n",
    "\n",
    "builder.add_edge(START, \"step_1\")\n",
    "builder.add_edge(\"step_1\", \"step_2\")\n",
    "builder.add_edge(\"step_2\", \"step_3\")\n",
    "builder.add_edge(\"step_3\", END)\n",
    "\n",
    "# 5. Use an in-memory checkpoint saver\n",
    "checkpointer = InMemorySaver()\n",
    "graph = builder.compile(checkpointer=checkpointer)\n",
    "\n",
    "graph"
   ]
  },
  {
   "cell_type": "markdown",
   "id": "d3c53d5c",
   "metadata": {},
   "source": [
    "### **❌ Kernel manually interrupted**"
   ]
  },
  {
   "cell_type": "code",
   "execution_count": 76,
   "id": "960afaec",
   "metadata": {},
   "outputs": [
    {
     "name": "stdout",
     "output_type": "stream",
     "text": [
      "▶️ Running graph: Please manually interrupt during Step 2...\n",
      "✅ Step 1 is Executed\n",
      "⌛ Step 2 is hanging... now manually interrupt from the notebook toolbar (STOP Button)\n",
      "❌ Kernel manually interrupted (crash simulated).\n"
     ]
    }
   ],
   "source": [
    "# Run the graph\n",
    "try:\n",
    "    print(\"▶️ Running graph: Please manually interrupt during Step 2...\")\n",
    "    graph.invoke({\"input\": \"start\"}, config={\"configurable\": {\"thread_id\": \"thread-1\"}})\n",
    "except KeyboardInterrupt:\n",
    "    print(\"❌ Kernel manually interrupted (crash simulated).\")"
   ]
  },
  {
   "cell_type": "code",
   "execution_count": 77,
   "id": "2119bbb2",
   "metadata": {},
   "outputs": [
    {
     "data": {
      "text/plain": [
       "StateSnapshot(values={'input': 'start', 'step1': 'done'}, next=('step_2',), config={'configurable': {'thread_id': 'thread-1', 'checkpoint_ns': '', 'checkpoint_id': '1f072d72-b924-6017-8001-4a02d228c6bb'}}, metadata={'source': 'loop', 'step': 1, 'parents': {}, 'thread_id': 'thread-1'}, created_at='2025-08-06T15:08:12.302529+00:00', parent_config={'configurable': {'thread_id': 'thread-1', 'checkpoint_ns': '', 'checkpoint_id': '1f072d72-b921-62c6-8000-d5eef96e0bd5'}}, tasks=(PregelTask(id='e5fb1564-fd7f-200f-42f2-63c323b651d6', name='step_2', path=('__pregel_pull', 'step_2'), error=None, interrupts=(), state=None, result=None),), interrupts=())"
      ]
     },
     "execution_count": 77,
     "metadata": {},
     "output_type": "execute_result"
    }
   ],
   "source": [
    "graph.get_state({\"configurable\": {\"thread_id\": \"thread-1\"}})"
   ]
  },
  {
   "cell_type": "code",
   "execution_count": 78,
   "id": "abd483f1",
   "metadata": {},
   "outputs": [
    {
     "data": {
      "text/plain": [
       "[StateSnapshot(values={'input': 'start', 'step1': 'done'}, next=('step_2',), config={'configurable': {'thread_id': 'thread-1', 'checkpoint_ns': '', 'checkpoint_id': '1f072d72-b924-6017-8001-4a02d228c6bb'}}, metadata={'source': 'loop', 'step': 1, 'parents': {}, 'thread_id': 'thread-1'}, created_at='2025-08-06T15:08:12.302529+00:00', parent_config={'configurable': {'thread_id': 'thread-1', 'checkpoint_ns': '', 'checkpoint_id': '1f072d72-b921-62c6-8000-d5eef96e0bd5'}}, tasks=(PregelTask(id='e5fb1564-fd7f-200f-42f2-63c323b651d6', name='step_2', path=('__pregel_pull', 'step_2'), error=None, interrupts=(), state=None, result=None),), interrupts=()),\n",
       " StateSnapshot(values={'input': 'start'}, next=('step_1',), config={'configurable': {'thread_id': 'thread-1', 'checkpoint_ns': '', 'checkpoint_id': '1f072d72-b921-62c6-8000-d5eef96e0bd5'}}, metadata={'source': 'loop', 'step': 0, 'parents': {}, 'thread_id': 'thread-1'}, created_at='2025-08-06T15:08:12.301361+00:00', parent_config={'configurable': {'thread_id': 'thread-1', 'checkpoint_ns': '', 'checkpoint_id': '1f072d72-b91a-69f2-bfff-e8508f02c18b'}}, tasks=(PregelTask(id='d537313d-9ad5-ff7d-a330-ae58e5bd9025', name='step_1', path=('__pregel_pull', 'step_1'), error=None, interrupts=(), state=None, result={'step1': 'done', 'input': 'start'}),), interrupts=()),\n",
       " StateSnapshot(values={}, next=('__start__',), config={'configurable': {'thread_id': 'thread-1', 'checkpoint_ns': '', 'checkpoint_id': '1f072d72-b91a-69f2-bfff-e8508f02c18b'}}, metadata={'source': 'input', 'step': -1, 'parents': {}, 'thread_id': 'thread-1'}, created_at='2025-08-06T15:08:12.298686+00:00', parent_config=None, tasks=(PregelTask(id='5e59786a-0ab5-4974-4e34-1c5fb4ba4f2f', name='__start__', path=('__pregel_pull', '__start__'), error=None, interrupts=(), state=None, result={'input': 'start'}),), interrupts=())]"
      ]
     },
     "execution_count": 78,
     "metadata": {},
     "output_type": "execute_result"
    }
   ],
   "source": [
    "list(graph.get_state_history({\"configurable\": {\"thread_id\": \"thread-1\"}}))"
   ]
  },
  {
   "cell_type": "markdown",
   "id": "07facea7",
   "metadata": {},
   "source": [
    "### **✅Resuming from saved state**"
   ]
  },
  {
   "cell_type": "code",
   "execution_count": 79,
   "id": "dc2625d1",
   "metadata": {},
   "outputs": [
    {
     "name": "stdout",
     "output_type": "stream",
     "text": [
      "⌛ Step 2 is hanging... now manually interrupt from the notebook toolbar (STOP Button)\n",
      "✅ Step 3 is Executed\n",
      "\n",
      "✅ Final State: {'input': 'start', 'step1': 'done', 'step2': 'done', 'step3': 'done'}\n"
     ]
    }
   ],
   "source": [
    "# 6. Re-run to show fault-tolerant resume\n",
    "final_state = graph.invoke(\n",
    "    None,  # No new input needed since it's resuming from saved state\n",
    "    config={\"configurable\": {\"thread_id\": \"thread-1\"}}\n",
    ")\n",
    "print(\"\\n✅ Final State:\", final_state)"
   ]
  },
  {
   "cell_type": "code",
   "execution_count": 80,
   "id": "03c31767",
   "metadata": {},
   "outputs": [
    {
     "data": {
      "text/plain": [
       "StateSnapshot(values={'input': 'start', 'step1': 'done', 'step2': 'done', 'step3': 'done'}, next=(), config={'configurable': {'thread_id': 'thread-1', 'checkpoint_ns': '', 'checkpoint_id': '1f072d75-55e6-67a1-8003-4a15386bf085'}}, metadata={'source': 'loop', 'step': 3, 'parents': {}, 'thread_id': 'thread-1'}, created_at='2025-08-06T15:09:22.427064+00:00', parent_config={'configurable': {'thread_id': 'thread-1', 'checkpoint_ns': '', 'checkpoint_id': '1f072d75-55e4-607d-8002-c812e89581c2'}}, tasks=(), interrupts=())"
      ]
     },
     "execution_count": 80,
     "metadata": {},
     "output_type": "execute_result"
    }
   ],
   "source": [
    "graph.get_state({\"configurable\": {\"thread_id\": \"thread-1\"}})"
   ]
  },
  {
   "cell_type": "code",
   "execution_count": 81,
   "id": "28d11004",
   "metadata": {},
   "outputs": [
    {
     "data": {
      "text/plain": [
       "[StateSnapshot(values={'input': 'start', 'step1': 'done', 'step2': 'done', 'step3': 'done'}, next=(), config={'configurable': {'thread_id': 'thread-1', 'checkpoint_ns': '', 'checkpoint_id': '1f072d75-55e6-67a1-8003-4a15386bf085'}}, metadata={'source': 'loop', 'step': 3, 'parents': {}, 'thread_id': 'thread-1'}, created_at='2025-08-06T15:09:22.427064+00:00', parent_config={'configurable': {'thread_id': 'thread-1', 'checkpoint_ns': '', 'checkpoint_id': '1f072d75-55e4-607d-8002-c812e89581c2'}}, tasks=(), interrupts=()),\n",
       " StateSnapshot(values={'input': 'start', 'step1': 'done', 'step2': 'done'}, next=('step_3',), config={'configurable': {'thread_id': 'thread-1', 'checkpoint_ns': '', 'checkpoint_id': '1f072d75-55e4-607d-8002-c812e89581c2'}}, metadata={'source': 'loop', 'step': 2, 'parents': {}, 'thread_id': 'thread-1'}, created_at='2025-08-06T15:09:22.426023+00:00', parent_config={'configurable': {'thread_id': 'thread-1', 'checkpoint_ns': '', 'checkpoint_id': '1f072d72-b924-6017-8001-4a02d228c6bb'}}, tasks=(PregelTask(id='8831eff9-ea94-9661-17b5-c5f70330309e', name='step_3', path=('__pregel_pull', 'step_3'), error=None, interrupts=(), state=None, result={'step3': 'done'}),), interrupts=()),\n",
       " StateSnapshot(values={'input': 'start', 'step1': 'done'}, next=('step_2',), config={'configurable': {'thread_id': 'thread-1', 'checkpoint_ns': '', 'checkpoint_id': '1f072d72-b924-6017-8001-4a02d228c6bb'}}, metadata={'source': 'loop', 'step': 1, 'parents': {}, 'thread_id': 'thread-1'}, created_at='2025-08-06T15:08:12.302529+00:00', parent_config={'configurable': {'thread_id': 'thread-1', 'checkpoint_ns': '', 'checkpoint_id': '1f072d72-b921-62c6-8000-d5eef96e0bd5'}}, tasks=(PregelTask(id='e5fb1564-fd7f-200f-42f2-63c323b651d6', name='step_2', path=('__pregel_pull', 'step_2'), error=None, interrupts=(), state=None, result={'step2': 'done'}),), interrupts=()),\n",
       " StateSnapshot(values={'input': 'start'}, next=('step_1',), config={'configurable': {'thread_id': 'thread-1', 'checkpoint_ns': '', 'checkpoint_id': '1f072d72-b921-62c6-8000-d5eef96e0bd5'}}, metadata={'source': 'loop', 'step': 0, 'parents': {}, 'thread_id': 'thread-1'}, created_at='2025-08-06T15:08:12.301361+00:00', parent_config={'configurable': {'thread_id': 'thread-1', 'checkpoint_ns': '', 'checkpoint_id': '1f072d72-b91a-69f2-bfff-e8508f02c18b'}}, tasks=(PregelTask(id='d537313d-9ad5-ff7d-a330-ae58e5bd9025', name='step_1', path=('__pregel_pull', 'step_1'), error=None, interrupts=(), state=None, result={'step1': 'done', 'input': 'start'}),), interrupts=()),\n",
       " StateSnapshot(values={}, next=('__start__',), config={'configurable': {'thread_id': 'thread-1', 'checkpoint_ns': '', 'checkpoint_id': '1f072d72-b91a-69f2-bfff-e8508f02c18b'}}, metadata={'source': 'input', 'step': -1, 'parents': {}, 'thread_id': 'thread-1'}, created_at='2025-08-06T15:08:12.298686+00:00', parent_config=None, tasks=(PregelTask(id='5e59786a-0ab5-4974-4e34-1c5fb4ba4f2f', name='__start__', path=('__pregel_pull', '__start__'), error=None, interrupts=(), state=None, result={'input': 'start'}),), interrupts=())]"
      ]
     },
     "execution_count": 81,
     "metadata": {},
     "output_type": "execute_result"
    }
   ],
   "source": [
    "list(graph.get_state_history({\"configurable\": {\"thread_id\": \"thread-1\"}}))"
   ]
  },
  {
   "cell_type": "markdown",
   "id": "dfddf208",
   "metadata": {},
   "source": [
    "## **➿2. HITL(Human in the Loop)**"
   ]
  },
  {
   "cell_type": "markdown",
   "id": "8f049948",
   "metadata": {},
   "source": [
    "### 🧠 **Human-in-the-Loop (HITL) in LangGraph Workflow**\n",
    "\n",
    "📌 **Overall Workflow**:\n",
    "\n",
    "```\n",
    "🟨 Topic \n",
    "   ↓\n",
    "🧾 LinkedIn Post ───────▶ (active)\n",
    "                             ↓\n",
    "                          🧑‍🦱 HITL\n",
    "                             ↓\n",
    "                          🛑 Interrupt \n",
    "                             ↓\n",
    "                          ✅ Resume\n",
    "                             ↓\n",
    "                          🔵 API\n",
    "\n",
    "```\n",
    "\n",
    "### 🔁 **Concept & Flow Explanation**\n",
    "\n",
    "* 🟨 **\"Topic\"**:\n",
    "\n",
    "  * Start of the workflow.\n",
    "  * A topic is generated or selected to begin the automated process.\n",
    "\n",
    "* 🧾 **\"LinkedIn Post\"**:\n",
    "\n",
    "  * An automated step generates a LinkedIn post from the topic.\n",
    "  * The process is fully machine-driven up to this point.\n",
    "\n",
    "* 👤 **Human-in-the-Loop (HITL)**:\n",
    "\n",
    "  * The workflow **pauses here**, waiting for **human input, approval, or editing**.\n",
    "  * The system deliberately **interrupts** here — this is **not a crash**, but a controlled halt.\n",
    "\n",
    "* 🛑 **Interrupt (Red)**:\n",
    "\n",
    "  * Highlights the intentional pause after the post is created.\n",
    "  * At this stage, memory cannot remain active (e.g., human may respond after hours/days).\n",
    "\n",
    "* 💾 **Persistence (LangGraph’s Superpower)**:\n",
    "\n",
    "  * LangGraph **saves the state** of the graph at each step (checkpoint).\n",
    "  * When the human provides input later, LangGraph can **resume from exactly where it left off**.\n",
    "\n",
    "* 🔁 **Resume (Green)**:\n",
    "\n",
    "  * Once the human gives input, LangGraph **resumes execution**.\n",
    "  * Continues with calling the final 🔵 **API** step using the updated content.\n",
    "\n",
    "---\n",
    "\n",
    "### ⚖️ **Comparison with Fault Tolerance**\n",
    "\n",
    "| Feature              | Human-in-the-Loop (HITL)     | Fault Tolerance                     |\n",
    "| -------------------- | ---------------------------- | ----------------------------------- |\n",
    "| 🛑 **Interruption**  | Deliberate pause for human   | Unplanned (e.g., crash or failure)  |\n",
    "| 🕒 **Resume Timing** | Can resume after long delay  | Resumes ASAP once issue is resolved |\n",
    "| 💾 **Persistence**   | Used to wait for human input | Used to recover from system failure |\n",
    "\n"
   ]
  },
  {
   "cell_type": "markdown",
   "id": "7b1aaea3",
   "metadata": {},
   "source": [
    "## **⏳Time Travel**"
   ]
  },
  {
   "cell_type": "code",
   "execution_count": 84,
   "id": "360fe643",
   "metadata": {},
   "outputs": [
    {
     "data": {
      "text/plain": [
       "StateSnapshot(values={'topic': 'frog'}, next=('generate_joke',), config={'configurable': {'thread_id': '1', 'checkpoint_id': '1f072d72-ab84-69a8-8000-3d25b648b3f6'}}, metadata={'source': 'loop', 'step': 0, 'parents': {}, 'thread_id': '1'}, created_at='2025-08-06T15:08:10.874083+00:00', parent_config={'configurable': {'thread_id': '1', 'checkpoint_ns': '', 'checkpoint_id': '1f072d72-ab80-6c4b-bfff-1254ff4339de'}}, tasks=(PregelTask(id='223dfa4d-8b04-5378-4cd3-1681c8bd54df', name='generate_joke', path=('__pregel_pull', 'generate_joke'), error=None, interrupts=(), state=None, result={'joke': 'Why did the frog go to the doctor?\\n\\nBecause it had a \"toad-ally\" bad cough.'}),), interrupts=())"
      ]
     },
     "execution_count": 84,
     "metadata": {},
     "output_type": "execute_result"
    }
   ],
   "source": [
    "workflow.get_state({\n",
    "    \"configurable\": {\"thread_id\": \"1\", \"checkpoint_id\": \"1f072d72-ab84-69a8-8000-3d25b648b3f6\"}}\n",
    "    )"
   ]
  },
  {
   "cell_type": "code",
   "execution_count": 85,
   "id": "ed824ac0",
   "metadata": {},
   "outputs": [
    {
     "data": {
      "text/plain": [
       "{'topic': 'frog',\n",
       " 'joke': 'Why did the frog go to the doctor? \\n\\nBecause it had a \"ribbiting\" cough.',\n",
       " 'explanation': 'The joke is a play on words. \"Ribbiting\" has a double meaning here:\\n\\n1. In its literal sense, \"ribbit\" is the sound a frog makes, similar to a laugh or a chuckle.\\n2. In an idiomatic sense, \"ribbiting\" sounds like \"rib-tickling\" or \"gut-wrenching,\" which means extremely funny or laugh-out-loud hilarious.\\n\\nSo, the punchline \"it had a ribbiting cough\" is a clever pun that combines the frog\\'s distinctive sound with the idea of something being laugh-out-loud funny, implying that the frog\\'s cough is so severe or unusual that it\\'s almost comical. The joke relies on the wordplay between the literal and idiomatic meanings of \"ribbiting\" to create a humorous effect.'}"
      ]
     },
     "execution_count": 85,
     "metadata": {},
     "output_type": "execute_result"
    }
   ],
   "source": [
    "workflow.invoke(\n",
    "    None, \n",
    "    {\"configurable\": {\"thread_id\": \"1\", \"checkpoint_id\": \"1f072d72-ab84-69a8-8000-3d25b648b3f6\"}}\n",
    "    )"
   ]
  },
  {
   "cell_type": "code",
   "execution_count": 86,
   "id": "67f6eb80",
   "metadata": {},
   "outputs": [
    {
     "data": {
      "text/plain": [
       "[StateSnapshot(values={'topic': 'frog', 'joke': 'Why did the frog go to the doctor? \\n\\nBecause it had a \"ribbiting\" cough.', 'explanation': 'The joke is a play on words. \"Ribbiting\" has a double meaning here:\\n\\n1. In its literal sense, \"ribbit\" is the sound a frog makes, similar to a laugh or a chuckle.\\n2. In an idiomatic sense, \"ribbiting\" sounds like \"rib-tickling\" or \"gut-wrenching,\" which means extremely funny or laugh-out-loud hilarious.\\n\\nSo, the punchline \"it had a ribbiting cough\" is a clever pun that combines the frog\\'s distinctive sound with the idea of something being laugh-out-loud funny, implying that the frog\\'s cough is so severe or unusual that it\\'s almost comical. The joke relies on the wordplay between the literal and idiomatic meanings of \"ribbiting\" to create a humorous effect.'}, next=(), config={'configurable': {'thread_id': '1', 'checkpoint_ns': '', 'checkpoint_id': '1f072d78-f2c6-650e-8002-80a8628e7b10'}}, metadata={'source': 'loop', 'step': 2, 'parents': {}, 'thread_id': '1'}, created_at='2025-08-06T15:10:59.407170+00:00', parent_config={'configurable': {'thread_id': '1', 'checkpoint_ns': '', 'checkpoint_id': '1f072d78-eeeb-631a-8001-fb464735db8e'}}, tasks=(), interrupts=()),\n",
       " StateSnapshot(values={'topic': 'frog', 'joke': 'Why did the frog go to the doctor? \\n\\nBecause it had a \"ribbiting\" cough.'}, next=('generate_explanation',), config={'configurable': {'thread_id': '1', 'checkpoint_ns': '', 'checkpoint_id': '1f072d78-eeeb-631a-8001-fb464735db8e'}}, metadata={'source': 'loop', 'step': 1, 'parents': {}, 'thread_id': '1'}, created_at='2025-08-06T15:10:59.002839+00:00', parent_config={'configurable': {'thread_id': '1', 'checkpoint_ns': '', 'checkpoint_id': '1f072d72-ab84-69a8-8000-3d25b648b3f6'}}, tasks=(PregelTask(id='709b4e71-0d3a-a86b-c0bc-361cd6d7b31c', name='generate_explanation', path=('__pregel_pull', 'generate_explanation'), error=None, interrupts=(), state=None, result={'explanation': 'The joke is a play on words. \"Ribbiting\" has a double meaning here:\\n\\n1. In its literal sense, \"ribbit\" is the sound a frog makes, similar to a laugh or a chuckle.\\n2. In an idiomatic sense, \"ribbiting\" sounds like \"rib-tickling\" or \"gut-wrenching,\" which means extremely funny or laugh-out-loud hilarious.\\n\\nSo, the punchline \"it had a ribbiting cough\" is a clever pun that combines the frog\\'s distinctive sound with the idea of something being laugh-out-loud funny, implying that the frog\\'s cough is so severe or unusual that it\\'s almost comical. The joke relies on the wordplay between the literal and idiomatic meanings of \"ribbiting\" to create a humorous effect.'}),), interrupts=()),\n",
       " StateSnapshot(values={'topic': 'frog', 'joke': 'Why did the frog go to the doctor?\\n\\nBecause it had a \"toad-ally\" bad cough.', 'explanation': 'The joke is a play on words, using a pun to create humor. The phrase \"toad-ally\" is a clever pun on the word \"totally,\" which is a common adverb meaning completely or entirely. However, in this joke, it\\'s replaced with \"toad-ally,\" referencing the fact that a toad is a type of amphibian, closely related to frogs.\\n\\nThe joke relies on this wordplay to create a pun, which is a form of humor that exploits multiple meanings of a word or phrase. In this case, the pun is used to create a clever and unexpected connection between the idea of a frog\\'s bad cough and the word \"toad-ally,\" creating a lighthearted and amusing effect.\\n\\nThe joke also uses a bit of unexpected twist, as it sets up the expectation that the frog went to the doctor for a serious reason, but instead subverts it with a pun, making it a clever and amusing way to end the joke.'}, next=(), config={'configurable': {'thread_id': '1', 'checkpoint_ns': '', 'checkpoint_id': '1f072d72-b1e2-6212-8002-50cbb9a6e1e1'}}, metadata={'source': 'loop', 'step': 2, 'parents': {}, 'thread_id': '1'}, created_at='2025-08-06T15:08:11.541542+00:00', parent_config={'configurable': {'thread_id': '1', 'checkpoint_ns': '', 'checkpoint_id': '1f072d72-add5-6da4-8001-4c633a658375'}}, tasks=(), interrupts=()),\n",
       " StateSnapshot(values={'topic': 'frog', 'joke': 'Why did the frog go to the doctor?\\n\\nBecause it had a \"toad-ally\" bad cough.'}, next=('generate_explanation',), config={'configurable': {'thread_id': '1', 'checkpoint_ns': '', 'checkpoint_id': '1f072d72-add5-6da4-8001-4c633a658375'}}, metadata={'source': 'loop', 'step': 1, 'parents': {}, 'thread_id': '1'}, created_at='2025-08-06T15:08:11.117022+00:00', parent_config={'configurable': {'thread_id': '1', 'checkpoint_ns': '', 'checkpoint_id': '1f072d72-ab84-69a8-8000-3d25b648b3f6'}}, tasks=(PregelTask(id='bd2fb827-1bc9-0e3e-2c97-218af3936500', name='generate_explanation', path=('__pregel_pull', 'generate_explanation'), error=None, interrupts=(), state=None, result={'explanation': 'The joke is a play on words, using a pun to create humor. The phrase \"toad-ally\" is a clever pun on the word \"totally,\" which is a common adverb meaning completely or entirely. However, in this joke, it\\'s replaced with \"toad-ally,\" referencing the fact that a toad is a type of amphibian, closely related to frogs.\\n\\nThe joke relies on this wordplay to create a pun, which is a form of humor that exploits multiple meanings of a word or phrase. In this case, the pun is used to create a clever and unexpected connection between the idea of a frog\\'s bad cough and the word \"toad-ally,\" creating a lighthearted and amusing effect.\\n\\nThe joke also uses a bit of unexpected twist, as it sets up the expectation that the frog went to the doctor for a serious reason, but instead subverts it with a pun, making it a clever and amusing way to end the joke.'}),), interrupts=()),\n",
       " StateSnapshot(values={'topic': 'frog'}, next=('generate_joke',), config={'configurable': {'thread_id': '1', 'checkpoint_ns': '', 'checkpoint_id': '1f072d72-ab84-69a8-8000-3d25b648b3f6'}}, metadata={'source': 'loop', 'step': 0, 'parents': {}, 'thread_id': '1'}, created_at='2025-08-06T15:08:10.874083+00:00', parent_config={'configurable': {'thread_id': '1', 'checkpoint_ns': '', 'checkpoint_id': '1f072d72-ab80-6c4b-bfff-1254ff4339de'}}, tasks=(PregelTask(id='223dfa4d-8b04-5378-4cd3-1681c8bd54df', name='generate_joke', path=('__pregel_pull', 'generate_joke'), error=None, interrupts=(), state=None, result={'joke': 'Why did the frog go to the doctor?\\n\\nBecause it had a \"toad-ally\" bad cough.'}),), interrupts=()),\n",
       " StateSnapshot(values={}, next=('__start__',), config={'configurable': {'thread_id': '1', 'checkpoint_ns': '', 'checkpoint_id': '1f072d72-ab80-6c4b-bfff-1254ff4339de'}}, metadata={'source': 'input', 'step': -1, 'parents': {}, 'thread_id': '1'}, created_at='2025-08-06T15:08:10.872522+00:00', parent_config=None, tasks=(PregelTask(id='9bf5cfa3-4da0-c595-8f15-aa95f398b6ec', name='__start__', path=('__pregel_pull', '__start__'), error=None, interrupts=(), state=None, result={'topic': 'frog'}),), interrupts=())]"
      ]
     },
     "execution_count": 86,
     "metadata": {},
     "output_type": "execute_result"
    }
   ],
   "source": [
    "list(workflow.get_state_history(config1))"
   ]
  },
  {
   "cell_type": "markdown",
   "id": "28dfc437",
   "metadata": {},
   "source": [
    "## **⤴️Updating State**"
   ]
  },
  {
   "cell_type": "code",
   "execution_count": 87,
   "id": "08ded3d8",
   "metadata": {},
   "outputs": [
    {
     "data": {
      "text/plain": [
       "{'configurable': {'thread_id': '1',\n",
       "  'checkpoint_ns': '',\n",
       "  'checkpoint_id': '1f072d7b-b22c-624b-8001-d34dc509b2a5'}}"
      ]
     },
     "execution_count": 87,
     "metadata": {},
     "output_type": "execute_result"
    }
   ],
   "source": [
    "workflow.update_state(\n",
    "    {\"configurable\": {\"thread_id\": \"1\", \"checkpoint_id\": \"1f072d72-ab84-69a8-8000-3d25b648b3f6\", \"checkpoint_ns\": \"\"}},\n",
    "    {'topic':'samosa'}\n",
    "    )"
   ]
  },
  {
   "cell_type": "code",
   "execution_count": 88,
   "id": "fdf514e5",
   "metadata": {},
   "outputs": [
    {
     "data": {
      "text/plain": [
       "[StateSnapshot(values={'topic': 'samosa'}, next=('generate_joke',), config={'configurable': {'thread_id': '1', 'checkpoint_ns': '', 'checkpoint_id': '1f072d7b-b22c-624b-8001-d34dc509b2a5'}}, metadata={'source': 'update', 'step': 1, 'parents': {}, 'thread_id': '1'}, created_at='2025-08-06T15:12:13.163768+00:00', parent_config={'configurable': {'thread_id': '1', 'checkpoint_ns': '', 'checkpoint_id': '1f072d72-ab84-69a8-8000-3d25b648b3f6'}}, tasks=(PregelTask(id='e6d3d10d-a207-2fcb-268e-b8c75f069edf', name='generate_joke', path=('__pregel_pull', 'generate_joke'), error=None, interrupts=(), state=None, result=None),), interrupts=()),\n",
       " StateSnapshot(values={'topic': 'frog', 'joke': 'Why did the frog go to the doctor? \\n\\nBecause it had a \"ribbiting\" cough.', 'explanation': 'The joke is a play on words. \"Ribbiting\" has a double meaning here:\\n\\n1. In its literal sense, \"ribbit\" is the sound a frog makes, similar to a laugh or a chuckle.\\n2. In an idiomatic sense, \"ribbiting\" sounds like \"rib-tickling\" or \"gut-wrenching,\" which means extremely funny or laugh-out-loud hilarious.\\n\\nSo, the punchline \"it had a ribbiting cough\" is a clever pun that combines the frog\\'s distinctive sound with the idea of something being laugh-out-loud funny, implying that the frog\\'s cough is so severe or unusual that it\\'s almost comical. The joke relies on the wordplay between the literal and idiomatic meanings of \"ribbiting\" to create a humorous effect.'}, next=(), config={'configurable': {'thread_id': '1', 'checkpoint_ns': '', 'checkpoint_id': '1f072d78-f2c6-650e-8002-80a8628e7b10'}}, metadata={'source': 'loop', 'step': 2, 'parents': {}, 'thread_id': '1'}, created_at='2025-08-06T15:10:59.407170+00:00', parent_config={'configurable': {'thread_id': '1', 'checkpoint_ns': '', 'checkpoint_id': '1f072d78-eeeb-631a-8001-fb464735db8e'}}, tasks=(), interrupts=()),\n",
       " StateSnapshot(values={'topic': 'frog', 'joke': 'Why did the frog go to the doctor? \\n\\nBecause it had a \"ribbiting\" cough.'}, next=('generate_explanation',), config={'configurable': {'thread_id': '1', 'checkpoint_ns': '', 'checkpoint_id': '1f072d78-eeeb-631a-8001-fb464735db8e'}}, metadata={'source': 'loop', 'step': 1, 'parents': {}, 'thread_id': '1'}, created_at='2025-08-06T15:10:59.002839+00:00', parent_config={'configurable': {'thread_id': '1', 'checkpoint_ns': '', 'checkpoint_id': '1f072d72-ab84-69a8-8000-3d25b648b3f6'}}, tasks=(PregelTask(id='709b4e71-0d3a-a86b-c0bc-361cd6d7b31c', name='generate_explanation', path=('__pregel_pull', 'generate_explanation'), error=None, interrupts=(), state=None, result={'explanation': 'The joke is a play on words. \"Ribbiting\" has a double meaning here:\\n\\n1. In its literal sense, \"ribbit\" is the sound a frog makes, similar to a laugh or a chuckle.\\n2. In an idiomatic sense, \"ribbiting\" sounds like \"rib-tickling\" or \"gut-wrenching,\" which means extremely funny or laugh-out-loud hilarious.\\n\\nSo, the punchline \"it had a ribbiting cough\" is a clever pun that combines the frog\\'s distinctive sound with the idea of something being laugh-out-loud funny, implying that the frog\\'s cough is so severe or unusual that it\\'s almost comical. The joke relies on the wordplay between the literal and idiomatic meanings of \"ribbiting\" to create a humorous effect.'}),), interrupts=()),\n",
       " StateSnapshot(values={'topic': 'frog', 'joke': 'Why did the frog go to the doctor?\\n\\nBecause it had a \"toad-ally\" bad cough.', 'explanation': 'The joke is a play on words, using a pun to create humor. The phrase \"toad-ally\" is a clever pun on the word \"totally,\" which is a common adverb meaning completely or entirely. However, in this joke, it\\'s replaced with \"toad-ally,\" referencing the fact that a toad is a type of amphibian, closely related to frogs.\\n\\nThe joke relies on this wordplay to create a pun, which is a form of humor that exploits multiple meanings of a word or phrase. In this case, the pun is used to create a clever and unexpected connection between the idea of a frog\\'s bad cough and the word \"toad-ally,\" creating a lighthearted and amusing effect.\\n\\nThe joke also uses a bit of unexpected twist, as it sets up the expectation that the frog went to the doctor for a serious reason, but instead subverts it with a pun, making it a clever and amusing way to end the joke.'}, next=(), config={'configurable': {'thread_id': '1', 'checkpoint_ns': '', 'checkpoint_id': '1f072d72-b1e2-6212-8002-50cbb9a6e1e1'}}, metadata={'source': 'loop', 'step': 2, 'parents': {}, 'thread_id': '1'}, created_at='2025-08-06T15:08:11.541542+00:00', parent_config={'configurable': {'thread_id': '1', 'checkpoint_ns': '', 'checkpoint_id': '1f072d72-add5-6da4-8001-4c633a658375'}}, tasks=(), interrupts=()),\n",
       " StateSnapshot(values={'topic': 'frog', 'joke': 'Why did the frog go to the doctor?\\n\\nBecause it had a \"toad-ally\" bad cough.'}, next=('generate_explanation',), config={'configurable': {'thread_id': '1', 'checkpoint_ns': '', 'checkpoint_id': '1f072d72-add5-6da4-8001-4c633a658375'}}, metadata={'source': 'loop', 'step': 1, 'parents': {}, 'thread_id': '1'}, created_at='2025-08-06T15:08:11.117022+00:00', parent_config={'configurable': {'thread_id': '1', 'checkpoint_ns': '', 'checkpoint_id': '1f072d72-ab84-69a8-8000-3d25b648b3f6'}}, tasks=(PregelTask(id='bd2fb827-1bc9-0e3e-2c97-218af3936500', name='generate_explanation', path=('__pregel_pull', 'generate_explanation'), error=None, interrupts=(), state=None, result={'explanation': 'The joke is a play on words, using a pun to create humor. The phrase \"toad-ally\" is a clever pun on the word \"totally,\" which is a common adverb meaning completely or entirely. However, in this joke, it\\'s replaced with \"toad-ally,\" referencing the fact that a toad is a type of amphibian, closely related to frogs.\\n\\nThe joke relies on this wordplay to create a pun, which is a form of humor that exploits multiple meanings of a word or phrase. In this case, the pun is used to create a clever and unexpected connection between the idea of a frog\\'s bad cough and the word \"toad-ally,\" creating a lighthearted and amusing effect.\\n\\nThe joke also uses a bit of unexpected twist, as it sets up the expectation that the frog went to the doctor for a serious reason, but instead subverts it with a pun, making it a clever and amusing way to end the joke.'}),), interrupts=()),\n",
       " StateSnapshot(values={'topic': 'frog'}, next=('generate_joke',), config={'configurable': {'thread_id': '1', 'checkpoint_ns': '', 'checkpoint_id': '1f072d72-ab84-69a8-8000-3d25b648b3f6'}}, metadata={'source': 'loop', 'step': 0, 'parents': {}, 'thread_id': '1'}, created_at='2025-08-06T15:08:10.874083+00:00', parent_config={'configurable': {'thread_id': '1', 'checkpoint_ns': '', 'checkpoint_id': '1f072d72-ab80-6c4b-bfff-1254ff4339de'}}, tasks=(PregelTask(id='223dfa4d-8b04-5378-4cd3-1681c8bd54df', name='generate_joke', path=('__pregel_pull', 'generate_joke'), error=None, interrupts=(), state=None, result={'joke': 'Why did the frog go to the doctor?\\n\\nBecause it had a \"toad-ally\" bad cough.'}),), interrupts=()),\n",
       " StateSnapshot(values={}, next=('__start__',), config={'configurable': {'thread_id': '1', 'checkpoint_ns': '', 'checkpoint_id': '1f072d72-ab80-6c4b-bfff-1254ff4339de'}}, metadata={'source': 'input', 'step': -1, 'parents': {}, 'thread_id': '1'}, created_at='2025-08-06T15:08:10.872522+00:00', parent_config=None, tasks=(PregelTask(id='9bf5cfa3-4da0-c595-8f15-aa95f398b6ec', name='__start__', path=('__pregel_pull', '__start__'), error=None, interrupts=(), state=None, result={'topic': 'frog'}),), interrupts=())]"
      ]
     },
     "execution_count": 88,
     "metadata": {},
     "output_type": "execute_result"
    }
   ],
   "source": [
    "list(workflow.get_state_history(config1))"
   ]
  },
  {
   "cell_type": "code",
   "execution_count": 89,
   "id": "804179cc",
   "metadata": {},
   "outputs": [
    {
     "data": {
      "text/plain": [
       "{'topic': 'samosa',\n",
       " 'joke': 'Why did the samosa go to therapy? \\n\\nBecause it was feeling crumby.',\n",
       " 'explanation': 'The joke relies on wordplay, using the phrase \"feeling crumby\" in two different ways. \\n\\nIn the first instance, \"feeling crumby\" is an idiom that means feeling unwell, unhappy, or in a bad mood. This is a common expression used to describe someone\\'s emotional state.\\n\\nIn the second instance, \"crumby\" also refers to something that is crumbling or falling apart, which is a characteristic of a samosa when it\\'s not fresh or has been mishandled. Samosas are a type of fried or baked pastry dish that is typically crispy on the outside and soft on the inside, but when they become stale or old, they can become crumby.\\n\\nThe joke is funny because it takes the common phrase \"feeling crumby\" and applies it to a samosa, which is literally prone to becoming crumby. It\\'s a clever play on words that creates a unexpected connection between the phrase and the subject of the joke.'}"
      ]
     },
     "execution_count": 89,
     "metadata": {},
     "output_type": "execute_result"
    }
   ],
   "source": [
    "workflow.invoke(None, {\"configurable\": {\"thread_id\": \"1\", \"checkpoint_id\": \"1f072d7b-b22c-624b-8001-d34dc509b2a5\"}})"
   ]
  },
  {
   "cell_type": "code",
   "execution_count": 90,
   "id": "8886b8e2",
   "metadata": {},
   "outputs": [
    {
     "data": {
      "text/plain": [
       "[StateSnapshot(values={'topic': 'samosa', 'joke': 'Why did the samosa go to therapy? \\n\\nBecause it was feeling crumby.', 'explanation': 'The joke relies on wordplay, using the phrase \"feeling crumby\" in two different ways. \\n\\nIn the first instance, \"feeling crumby\" is an idiom that means feeling unwell, unhappy, or in a bad mood. This is a common expression used to describe someone\\'s emotional state.\\n\\nIn the second instance, \"crumby\" also refers to something that is crumbling or falling apart, which is a characteristic of a samosa when it\\'s not fresh or has been mishandled. Samosas are a type of fried or baked pastry dish that is typically crispy on the outside and soft on the inside, but when they become stale or old, they can become crumby.\\n\\nThe joke is funny because it takes the common phrase \"feeling crumby\" and applies it to a samosa, which is literally prone to becoming crumby. It\\'s a clever play on words that creates a unexpected connection between the phrase and the subject of the joke.'}, next=(), config={'configurable': {'thread_id': '1', 'checkpoint_ns': '', 'checkpoint_id': '1f072d7c-e73a-6bb1-8003-d20a4a475721'}}, metadata={'source': 'loop', 'step': 3, 'parents': {}, 'thread_id': '1'}, created_at='2025-08-06T15:12:45.570736+00:00', parent_config={'configurable': {'thread_id': '1', 'checkpoint_ns': '', 'checkpoint_id': '1f072d7c-e347-64ba-8002-6701e87d8826'}}, tasks=(), interrupts=()),\n",
       " StateSnapshot(values={'topic': 'samosa', 'joke': 'Why did the samosa go to therapy? \\n\\nBecause it was feeling crumby.'}, next=('generate_explanation',), config={'configurable': {'thread_id': '1', 'checkpoint_ns': '', 'checkpoint_id': '1f072d7c-e347-64ba-8002-6701e87d8826'}}, metadata={'source': 'loop', 'step': 2, 'parents': {}, 'thread_id': '1'}, created_at='2025-08-06T15:12:45.156459+00:00', parent_config={'configurable': {'thread_id': '1', 'checkpoint_ns': '', 'checkpoint_id': '1f072d7b-b22c-624b-8001-d34dc509b2a5'}}, tasks=(PregelTask(id='6a3b74d8-48c5-1e71-2d74-c4a8ae82c4cd', name='generate_explanation', path=('__pregel_pull', 'generate_explanation'), error=None, interrupts=(), state=None, result={'explanation': 'The joke relies on wordplay, using the phrase \"feeling crumby\" in two different ways. \\n\\nIn the first instance, \"feeling crumby\" is an idiom that means feeling unwell, unhappy, or in a bad mood. This is a common expression used to describe someone\\'s emotional state.\\n\\nIn the second instance, \"crumby\" also refers to something that is crumbling or falling apart, which is a characteristic of a samosa when it\\'s not fresh or has been mishandled. Samosas are a type of fried or baked pastry dish that is typically crispy on the outside and soft on the inside, but when they become stale or old, they can become crumby.\\n\\nThe joke is funny because it takes the common phrase \"feeling crumby\" and applies it to a samosa, which is literally prone to becoming crumby. It\\'s a clever play on words that creates a unexpected connection between the phrase and the subject of the joke.'}),), interrupts=()),\n",
       " StateSnapshot(values={'topic': 'samosa'}, next=('generate_joke',), config={'configurable': {'thread_id': '1', 'checkpoint_ns': '', 'checkpoint_id': '1f072d7b-b22c-624b-8001-d34dc509b2a5'}}, metadata={'source': 'update', 'step': 1, 'parents': {}, 'thread_id': '1'}, created_at='2025-08-06T15:12:13.163768+00:00', parent_config={'configurable': {'thread_id': '1', 'checkpoint_ns': '', 'checkpoint_id': '1f072d72-ab84-69a8-8000-3d25b648b3f6'}}, tasks=(PregelTask(id='e6d3d10d-a207-2fcb-268e-b8c75f069edf', name='generate_joke', path=('__pregel_pull', 'generate_joke'), error=None, interrupts=(), state=None, result={'joke': 'Why did the samosa go to therapy? \\n\\nBecause it was feeling crumby.'}),), interrupts=()),\n",
       " StateSnapshot(values={'topic': 'frog', 'joke': 'Why did the frog go to the doctor? \\n\\nBecause it had a \"ribbiting\" cough.', 'explanation': 'The joke is a play on words. \"Ribbiting\" has a double meaning here:\\n\\n1. In its literal sense, \"ribbit\" is the sound a frog makes, similar to a laugh or a chuckle.\\n2. In an idiomatic sense, \"ribbiting\" sounds like \"rib-tickling\" or \"gut-wrenching,\" which means extremely funny or laugh-out-loud hilarious.\\n\\nSo, the punchline \"it had a ribbiting cough\" is a clever pun that combines the frog\\'s distinctive sound with the idea of something being laugh-out-loud funny, implying that the frog\\'s cough is so severe or unusual that it\\'s almost comical. The joke relies on the wordplay between the literal and idiomatic meanings of \"ribbiting\" to create a humorous effect.'}, next=(), config={'configurable': {'thread_id': '1', 'checkpoint_ns': '', 'checkpoint_id': '1f072d78-f2c6-650e-8002-80a8628e7b10'}}, metadata={'source': 'loop', 'step': 2, 'parents': {}, 'thread_id': '1'}, created_at='2025-08-06T15:10:59.407170+00:00', parent_config={'configurable': {'thread_id': '1', 'checkpoint_ns': '', 'checkpoint_id': '1f072d78-eeeb-631a-8001-fb464735db8e'}}, tasks=(), interrupts=()),\n",
       " StateSnapshot(values={'topic': 'frog', 'joke': 'Why did the frog go to the doctor? \\n\\nBecause it had a \"ribbiting\" cough.'}, next=('generate_explanation',), config={'configurable': {'thread_id': '1', 'checkpoint_ns': '', 'checkpoint_id': '1f072d78-eeeb-631a-8001-fb464735db8e'}}, metadata={'source': 'loop', 'step': 1, 'parents': {}, 'thread_id': '1'}, created_at='2025-08-06T15:10:59.002839+00:00', parent_config={'configurable': {'thread_id': '1', 'checkpoint_ns': '', 'checkpoint_id': '1f072d72-ab84-69a8-8000-3d25b648b3f6'}}, tasks=(PregelTask(id='709b4e71-0d3a-a86b-c0bc-361cd6d7b31c', name='generate_explanation', path=('__pregel_pull', 'generate_explanation'), error=None, interrupts=(), state=None, result={'explanation': 'The joke is a play on words. \"Ribbiting\" has a double meaning here:\\n\\n1. In its literal sense, \"ribbit\" is the sound a frog makes, similar to a laugh or a chuckle.\\n2. In an idiomatic sense, \"ribbiting\" sounds like \"rib-tickling\" or \"gut-wrenching,\" which means extremely funny or laugh-out-loud hilarious.\\n\\nSo, the punchline \"it had a ribbiting cough\" is a clever pun that combines the frog\\'s distinctive sound with the idea of something being laugh-out-loud funny, implying that the frog\\'s cough is so severe or unusual that it\\'s almost comical. The joke relies on the wordplay between the literal and idiomatic meanings of \"ribbiting\" to create a humorous effect.'}),), interrupts=()),\n",
       " StateSnapshot(values={'topic': 'frog', 'joke': 'Why did the frog go to the doctor?\\n\\nBecause it had a \"toad-ally\" bad cough.', 'explanation': 'The joke is a play on words, using a pun to create humor. The phrase \"toad-ally\" is a clever pun on the word \"totally,\" which is a common adverb meaning completely or entirely. However, in this joke, it\\'s replaced with \"toad-ally,\" referencing the fact that a toad is a type of amphibian, closely related to frogs.\\n\\nThe joke relies on this wordplay to create a pun, which is a form of humor that exploits multiple meanings of a word or phrase. In this case, the pun is used to create a clever and unexpected connection between the idea of a frog\\'s bad cough and the word \"toad-ally,\" creating a lighthearted and amusing effect.\\n\\nThe joke also uses a bit of unexpected twist, as it sets up the expectation that the frog went to the doctor for a serious reason, but instead subverts it with a pun, making it a clever and amusing way to end the joke.'}, next=(), config={'configurable': {'thread_id': '1', 'checkpoint_ns': '', 'checkpoint_id': '1f072d72-b1e2-6212-8002-50cbb9a6e1e1'}}, metadata={'source': 'loop', 'step': 2, 'parents': {}, 'thread_id': '1'}, created_at='2025-08-06T15:08:11.541542+00:00', parent_config={'configurable': {'thread_id': '1', 'checkpoint_ns': '', 'checkpoint_id': '1f072d72-add5-6da4-8001-4c633a658375'}}, tasks=(), interrupts=()),\n",
       " StateSnapshot(values={'topic': 'frog', 'joke': 'Why did the frog go to the doctor?\\n\\nBecause it had a \"toad-ally\" bad cough.'}, next=('generate_explanation',), config={'configurable': {'thread_id': '1', 'checkpoint_ns': '', 'checkpoint_id': '1f072d72-add5-6da4-8001-4c633a658375'}}, metadata={'source': 'loop', 'step': 1, 'parents': {}, 'thread_id': '1'}, created_at='2025-08-06T15:08:11.117022+00:00', parent_config={'configurable': {'thread_id': '1', 'checkpoint_ns': '', 'checkpoint_id': '1f072d72-ab84-69a8-8000-3d25b648b3f6'}}, tasks=(PregelTask(id='bd2fb827-1bc9-0e3e-2c97-218af3936500', name='generate_explanation', path=('__pregel_pull', 'generate_explanation'), error=None, interrupts=(), state=None, result={'explanation': 'The joke is a play on words, using a pun to create humor. The phrase \"toad-ally\" is a clever pun on the word \"totally,\" which is a common adverb meaning completely or entirely. However, in this joke, it\\'s replaced with \"toad-ally,\" referencing the fact that a toad is a type of amphibian, closely related to frogs.\\n\\nThe joke relies on this wordplay to create a pun, which is a form of humor that exploits multiple meanings of a word or phrase. In this case, the pun is used to create a clever and unexpected connection between the idea of a frog\\'s bad cough and the word \"toad-ally,\" creating a lighthearted and amusing effect.\\n\\nThe joke also uses a bit of unexpected twist, as it sets up the expectation that the frog went to the doctor for a serious reason, but instead subverts it with a pun, making it a clever and amusing way to end the joke.'}),), interrupts=()),\n",
       " StateSnapshot(values={'topic': 'frog'}, next=('generate_joke',), config={'configurable': {'thread_id': '1', 'checkpoint_ns': '', 'checkpoint_id': '1f072d72-ab84-69a8-8000-3d25b648b3f6'}}, metadata={'source': 'loop', 'step': 0, 'parents': {}, 'thread_id': '1'}, created_at='2025-08-06T15:08:10.874083+00:00', parent_config={'configurable': {'thread_id': '1', 'checkpoint_ns': '', 'checkpoint_id': '1f072d72-ab80-6c4b-bfff-1254ff4339de'}}, tasks=(PregelTask(id='223dfa4d-8b04-5378-4cd3-1681c8bd54df', name='generate_joke', path=('__pregel_pull', 'generate_joke'), error=None, interrupts=(), state=None, result={'joke': 'Why did the frog go to the doctor?\\n\\nBecause it had a \"toad-ally\" bad cough.'}),), interrupts=()),\n",
       " StateSnapshot(values={}, next=('__start__',), config={'configurable': {'thread_id': '1', 'checkpoint_ns': '', 'checkpoint_id': '1f072d72-ab80-6c4b-bfff-1254ff4339de'}}, metadata={'source': 'input', 'step': -1, 'parents': {}, 'thread_id': '1'}, created_at='2025-08-06T15:08:10.872522+00:00', parent_config=None, tasks=(PregelTask(id='9bf5cfa3-4da0-c595-8f15-aa95f398b6ec', name='__start__', path=('__pregel_pull', '__start__'), error=None, interrupts=(), state=None, result={'topic': 'frog'}),), interrupts=())]"
      ]
     },
     "execution_count": 90,
     "metadata": {},
     "output_type": "execute_result"
    }
   ],
   "source": [
    "list(workflow.get_state_history(config1))"
   ]
  }
 ],
 "metadata": {
  "kernelspec": {
   "display_name": "Agentic_AI_using_LangGraph_-_MCP",
   "language": "python",
   "name": "python3"
  },
  "language_info": {
   "codemirror_mode": {
    "name": "ipython",
    "version": 3
   },
   "file_extension": ".py",
   "mimetype": "text/x-python",
   "name": "python",
   "nbconvert_exporter": "python",
   "pygments_lexer": "ipython3",
   "version": "3.13.5"
  }
 },
 "nbformat": 4,
 "nbformat_minor": 5
}
