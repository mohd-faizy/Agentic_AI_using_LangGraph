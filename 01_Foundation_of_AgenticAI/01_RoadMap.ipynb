{
 "cells": [
  {
   "cell_type": "markdown",
   "id": "e5ae5e73",
   "metadata": {},
   "source": [
    "# **🛣️RoadMap**"
   ]
  },
  {
   "cell_type": "markdown",
   "id": "cdec529a",
   "metadata": {},
   "source": [
    "![author](https://img.shields.io/badge/author-mohd--faizy-red)"
   ]
  },
  {
   "cell_type": "markdown",
   "id": "0f010436",
   "metadata": {},
   "source": [
    "![roadmap_png](https://raw.githubusercontent.com/mohd-faizy/Agentic_AI_using_LangGraph_-_MCP/refs/heads/main/_img/curriculum.png)"
   ]
  },
  {
   "cell_type": "markdown",
   "id": "c4457acb",
   "metadata": {},
   "source": [
    "## **GenAI vs Agentic AI**"
   ]
  },
  {
   "cell_type": "markdown",
   "id": "4b03f4d4",
   "metadata": {},
   "source": [
    "| Feature | Generative AI (GenAI) | Agentic AI |\n",
    "| --- | --- | --- |\n",
    "| **Primary Output** | Unstructured content (text, image, audio, video) | Structured outputs from autonomous task execution |\n",
    "| **Execution Flow** | Stateless, single-step inference per prompt | Stateful, iterative multi-step reasoning with memory |\n",
    "| **Architecture** | Monolithic or linear prompt pipelines | Modular, event-driven multi-agent systems (e.g., DAGs in LangGraph) |\n",
    "| **Decision-Making Paradigm** | Prompt-conditioned output generation | Goal-oriented planning with long-term memory and dynamic context tracking |\n",
    "| **Autonomy** | Passive response to human queries | Proactive decision-making and self-directed task execution |\n",
    "| **Control Flow Logic** | Determined by prompt engineering | Driven by finite-state machines, graphs, or reactive policies |\n",
    "| **Memory & State Handling** | Typically ephemeral (no memory or limited through hacks like RAG) | Persistent, structured memory for state tracking and dependency handling |\n",
    "| **Interactivity Level** | Low—requires repeated user input | High—agents plan, recover from failure, and reattempt subtasks |\n",
    "| **Tool Use & API Calling** | Manually scripted via code or prompt templates | Dynamically selected tools via agent/tool registries and MCP mechanisms |\n",
    "| **Adaptability** | Fixed behavior per prompt configuration | Context-aware adaptation based on task state and environment |\n",
    "| **Scalability** | Scaling limited by model size and prompt length | Scales horizontally by orchestrating multiple specialized agents |\n",
    "| **Debuggability** | Opaque reasoning; difficult to trace | Transparent workflows; traceable node-level decisions |\n",
    "| **Learning/Training** | Pretrained foundation models; static behavior | Potential for online learning, fine-tuning per agent |\n",
    "| **Security/Guardrails** | Prompt filtering, static constraints | Embedded policies, role-based access, task-level validation |\n",
    "| **Deployment Targets** | Front-end apps, content generators, creative tools | Backend automation, orchestration layers, autonomous agent systems |\n",
    "| **Example Systems** | ChatGPT, Claude, Gemini, DALL·E 3, Sora, MusicLM, MidJourney | AutoGPT, LangGraph + MCP, OpenDevin, OpenAgents, CrewAI, MetaAgent, Devika |"
   ]
  },
  {
   "cell_type": "markdown",
   "id": "39d36d3b",
   "metadata": {},
   "source": [
    "## **LangChain vs LangGraph**"
   ]
  },
  {
   "cell_type": "markdown",
   "id": "16230ad1",
   "metadata": {},
   "source": [
    "| Feature                      | LangChain                                                                           | LangGraph                                                                                                    |\n",
    "| ---------------------------- | ----------------------------------------------------------------------------------- | ------------------------------------------------------------------------------------------------------------ |\n",
    "| **Primary Focus**            | Linear chaining of LLM operations and prompt management                             | Stateful, graph‑based orchestration of multi‑agent workflows                                                 |\n",
    "| **Execution Flow**           | Stateless, single‐pass pipelines (chains or prompt sequences)                       | DAGs/networks of nodes and edges—supports loops, branching, and revisiting states                            |\n",
    "| **State & Memory**           | Optional memory modules or RAG “hacks” (ephemeral by default)                       | Native persistent state object shared across graph execution                                                 |\n",
    "| **Modularity**               | Chains, simple agents, tool wrappers                                                | Agents as first‑class graph nodes; event‑driven linking                                                      |\n",
    "| **Architecture**             | Monolithic or linear pipelines; LCEL for declarative chains                         | Distributed, horizontally extensible graph execution engine                                                  |\n",
    "| **Debuggability**            | Chain‑level logs; limited introspection                                             | Visualizable graph structure with node‑level tracing                                                         |\n",
    "| **Scalability**              | Vertical scaling via larger models or longer chains                                 | Horizontal scaling across multiple specialized agents                                                        |\n",
    "| **Autonomy & Control Logic** | Passive, prompt‑conditioned; control flow determined by prompt design               | Proactive, goal‑oriented planning with FSMs, reactive policies, and dynamic context tracking                 |\n",
    "| **Adaptability**             | Fixed per prompt/chain configuration                                                | Context‑aware reconfiguration; can add/remove nodes or edges on the fly                                      |\n",
    "| **Typical Use Cases**        | Chatbots, document analysis/summarization, RAG pipelines, synthetic data generation | Complex task automation, autonomous agents, end‑to‑end workflows with failure recovery and conditional logic |\n",
    "| **How it runs**  | A straight line of steps: A → B → C      | A network of nodes that talk to each other |\n",
    "| **Memory**       | “Remembers” only if you add extra tricks | Built‑in memory everyone shares            |\n",
    "| **Adding tools** | Pre‑made connectors you plug in          | Agents pick tools on the fly               |\n",
    "| **Integration**         | Prebuilt wrappers (APIs, databases, search engines, etc.)                           | Dynamic tool registry at agent/node level, chosen at runtime                                                 |\n",
    "| **Flexibility**  | Easy for simple tasks                    | Made for complex, branching tasks          |\n",
    "| **When to use**  | Chatbots, simple document flows          | Multi‑agent workflows, automation          |\n",
    "\n"
   ]
  },
  {
   "cell_type": "markdown",
   "id": "4d78fec2",
   "metadata": {},
   "source": [
    "## ⭐Models"
   ]
  },
  {
   "cell_type": "markdown",
   "id": "1cc2045f",
   "metadata": {},
   "source": [
    "```python\n",
    "model = ChatGroq(\n",
    "    # Option 1: Use llama-3.3-70b-versatile (production model)\n",
    "    model=\"llama-3.3-70b-versatile\", # support structured output generation\n",
    "    \n",
    "    # Option 2: Use llama-3.1-8b-instant (faster, production model)\n",
    "    model=\"llama-3.1-8b-instant\", \n",
    "    \n",
    "    # Option 3: Use llama3-70b-8192 (production model)\n",
    "    model=\"llama3-70b-8192\",\n",
    "    \n",
    "    temperature=0.7,               # Controls randomness/creativity\n",
    "    max_tokens=100                 # Increased for better feedback\n",
    ")"
   ]
  }
 ],
 "metadata": {
  "kernelspec": {
   "display_name": "Agentic_AI_using_LangGraph_-_MCP",
   "language": "python",
   "name": "python3"
  },
  "language_info": {
   "codemirror_mode": {
    "name": "ipython",
    "version": 3
   },
   "file_extension": ".py",
   "mimetype": "text/x-python",
   "name": "python",
   "nbconvert_exporter": "python",
   "pygments_lexer": "ipython3",
   "version": "3.13.5"
  }
 },
 "nbformat": 4,
 "nbformat_minor": 5
}
